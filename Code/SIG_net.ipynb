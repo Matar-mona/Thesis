{
 "cells": [
  {
   "cell_type": "code",
   "execution_count": 1,
   "metadata": {},
   "outputs": [],
   "source": [
    "import csv\n",
    "import networkx as nx\n",
    "import re\n",
    "import matplotlib.pyplot as ply\n",
    "import numpy as np\n",
    "from datetime import datetime\n",
    "import pandas as pd"
   ]
  },
  {
   "cell_type": "code",
   "execution_count": 2,
   "metadata": {},
   "outputs": [],
   "source": [
    "from pathlib import Path\n",
    "import os.path\n",
    "import os\n",
    "import numpy as np\n",
    "import re\n",
    "import pandas as pd\n",
    "import shutil "
   ]
  },
  {
   "cell_type": "code",
   "execution_count": 3,
   "metadata": {},
   "outputs": [],
   "source": [
    "soft_path = 'D:/mm_thesis/the_files/SIG_data/'\n",
    "\n",
    "softwareList = os.listdir(soft_path)\n",
    "soft_files = [(os.path.join(soft_path,infile)+\"/\") for infile in softwareList]\n",
    "sig_net_path = 'D:/mm_thesis//Software_graphs/SIG_graph/'"
   ]
  },
  {
   "cell_type": "code",
   "execution_count": 55,
   "metadata": {},
   "outputs": [
    {
     "data": {
      "text/plain": [
       "['cassandra-graphs',\n",
       " 'chukwa-graphs',\n",
       " 'httpclient-graphs',\n",
       " 'ivy-graphs',\n",
       " 'jena-graphs']"
      ]
     },
     "execution_count": 55,
     "metadata": {},
     "output_type": "execute_result"
    }
   ],
   "source": [
    "softwareList"
   ]
  },
  {
   "cell_type": "code",
   "execution_count": 56,
   "metadata": {},
   "outputs": [
    {
     "data": {
      "text/plain": [
       "['D:/mm_thesis/the_files/SIG_data/cassandra-graphs/',\n",
       " 'D:/mm_thesis/the_files/SIG_data/chukwa-graphs/',\n",
       " 'D:/mm_thesis/the_files/SIG_data/httpclient-graphs/',\n",
       " 'D:/mm_thesis/the_files/SIG_data/ivy-graphs/',\n",
       " 'D:/mm_thesis/the_files/SIG_data/jena-graphs/']"
      ]
     },
     "execution_count": 56,
     "metadata": {},
     "output_type": "execute_result"
    }
   ],
   "source": [
    "soft_files"
   ]
  },
  {
   "cell_type": "markdown",
   "metadata": {},
   "source": [
    "## 1"
   ]
  },
  {
   "cell_type": "code",
   "execution_count": 4,
   "metadata": {},
   "outputs": [],
   "source": [
    "soft_path = 'D:/mm_thesis/the_files/SIG_data/'\n",
    "\n",
    "softwareList = os.listdir(soft_path)\n",
    "soft_files = [(os.path.join(soft_path,infile)+\"/\") for infile in softwareList]\n",
    "sig_net_path = 'D:/mm_thesis//Software_graphs/SIG_graph/'"
   ]
  },
  {
   "cell_type": "code",
   "execution_count": null,
   "metadata": {},
   "outputs": [],
   "source": []
  },
  {
   "cell_type": "code",
   "execution_count": 5,
   "metadata": {},
   "outputs": [
    {
     "data": {
      "text/plain": [
       "['cassandra-graphs',\n",
       " 'chukwa-graphs',\n",
       " 'hadoop-graphs',\n",
       " 'httpclient-graphs',\n",
       " 'ivy-graphs',\n",
       " 'jena-graphs']"
      ]
     },
     "execution_count": 5,
     "metadata": {},
     "output_type": "execute_result"
    }
   ],
   "source": [
    "softwareList"
   ]
  },
  {
   "cell_type": "code",
   "execution_count": 6,
   "metadata": {},
   "outputs": [
    {
     "data": {
      "text/plain": [
       "['C:/Users/mmata/Desktop/SIG_data/cassandra-graphs/',\n",
       " 'C:/Users/mmata/Desktop/SIG_data/chukwa-graphs/',\n",
       " 'C:/Users/mmata/Desktop/SIG_data/hadoop-graphs/',\n",
       " 'C:/Users/mmata/Desktop/SIG_data/httpclient-graphs/',\n",
       " 'C:/Users/mmata/Desktop/SIG_data/ivy-graphs/',\n",
       " 'C:/Users/mmata/Desktop/SIG_data/jena-graphs/']"
      ]
     },
     "execution_count": 6,
     "metadata": {},
     "output_type": "execute_result"
    }
   ],
   "source": [
    "soft_files\n"
   ]
  },
  {
   "cell_type": "code",
   "execution_count": null,
   "metadata": {},
   "outputs": [],
   "source": []
  },
  {
   "cell_type": "markdown",
   "metadata": {},
   "source": [
    "## 2"
   ]
  },
  {
   "cell_type": "code",
   "execution_count": 10,
   "metadata": {},
   "outputs": [],
   "source": [
    "def get_nodes(Method):\n",
    "   # M_st= Node.rfind(\".\")\n",
    "   \n",
    "    arg_st = Method.find(\"(\")\n",
    "    \n",
    "    arg_end = Method.find(\")\")\n",
    "    values = Method[ arg_st+1: arg_end]\n",
    "    M_st = Method[:arg_st].rfind('.')\n",
    "    margs = [x for x in values.split(',')]\n",
    "    Node = Method[M_st+1:arg_st]\n",
    "    Method = Method[0:M_st]\n",
    "    cl_st = Method.rfind(\".\")\n",
    "    m_class= Method[cl_st+1:]\n",
    "    m_package =Method[0:cl_st]\n",
    "   #if arg_st != -1:\n",
    "    #arg_end = Method_1.rfind(\")\")\n",
    "        \n",
    "    \n",
    "    \n",
    "        \n",
    "            \n",
    "    return(Node, m_class,m_package, margs)\n",
    "        "
   ]
  },
  {
   "cell_type": "markdown",
   "metadata": {},
   "source": [
    "## 3  make the network , edges files and node files "
   ]
  },
  {
   "cell_type": "code",
   "execution_count": 11,
   "metadata": {},
   "outputs": [],
   "source": [
    "mydict = {'cassandra-graphs':'Cass',\n",
    "          'chukwa-graphs': 'CHUKWA',\n",
    "         'httpclient-graphs':'HC',\n",
    "         'ivy-graphs':'IVY',\n",
    "         'jena-graphs':'JENA'}"
   ]
  },
  {
   "cell_type": "code",
   "execution_count": 12,
   "metadata": {},
   "outputs": [],
   "source": [
    "look_path = 'D:/mm_thesis/Software_graphs/lookup.csv'\n",
    "lookup_df = pd.read_csv(look_path)"
   ]
  },
  {
   "cell_type": "code",
   "execution_count": 59,
   "metadata": {},
   "outputs": [
    {
     "name": "stdout",
     "output_type": "stream",
     "text": [
      "Key : cassandra-graphs , Value : Cass\n",
      "Key : chukwa-graphs , Value : CHUKWA\n",
      "Key : httpclient-graphs , Value : HC\n",
      "Key : ivy-graphs , Value : IVY\n",
      "Key : jena-graphs , Value : JENA\n"
     ]
    }
   ],
   "source": [
    "for item in mydict:\n",
    "    print(\"Key : {} , Value : {}\".format(item,mydict[item]))"
   ]
  },
  {
   "cell_type": "code",
   "execution_count": null,
   "metadata": {},
   "outputs": [],
   "source": []
  },
  {
   "cell_type": "code",
   "execution_count": 93,
   "metadata": {},
   "outputs": [],
   "source": [
    "# print(mydict.get('cassandra-graphs'))"
   ]
  },
  {
   "cell_type": "code",
   "execution_count": 63,
   "metadata": {},
   "outputs": [],
   "source": [
    "# try_graph = soft_files[4:5]"
   ]
  },
  {
   "cell_type": "code",
   "execution_count": 13,
   "metadata": {},
   "outputs": [
    {
     "data": {
      "text/plain": [
       "['Cass', 'CHUKWA', 'HC', 'IVY', 'JENA']"
      ]
     },
     "execution_count": 13,
     "metadata": {},
     "output_type": "execute_result"
    }
   ],
   "source": [
    "sig_net_path = 'D:/mm_thesis/Software_graphs/SIG_graph/'\n",
    "os.listdir(sig_net_path)"
   ]
  },
  {
   "cell_type": "code",
   "execution_count": 85,
   "metadata": {},
   "outputs": [
    {
     "data": {
      "text/plain": [
       "['D:/mm_thesis/the_files/SIG_data/cassandra-graphs/',\n",
       " 'D:/mm_thesis/the_files/SIG_data/chukwa-graphs/',\n",
       " 'D:/mm_thesis/the_files/SIG_data/httpclient-graphs/',\n",
       " 'D:/mm_thesis/the_files/SIG_data/ivy-graphs/',\n",
       " 'D:/mm_thesis/the_files/SIG_data/jena-graphs/']"
      ]
     },
     "execution_count": 85,
     "metadata": {},
     "output_type": "execute_result"
    }
   ],
   "source": [
    "soft_files"
   ]
  },
  {
   "cell_type": "code",
   "execution_count": 16,
   "metadata": {},
   "outputs": [
    {
     "name": "stdout",
     "output_type": "stream",
     "text": [
      "ver D:/mm_thesis/the_files/SIG_data/cassandra-graphs/\n",
      "soft name ;    cassandra-graphs\n",
      "name from dict Cass\n",
      "D:/mm_thesis/Software_graphs/SIG_graph/Cass/cassandra-graphs/\n",
      "net_file D:/mm_thesis/the_files/SIG_data/cassandra-graphs/cassandra-cassandra-0.3.0-final.csv\n",
      "file to save D:/mm_thesis/Software_graphs/SIG_graph/Cass/cassandra-graphs/Edges/edgest_tst_cassandra-cassandra-0.3.0-final\n",
      "net_file D:/mm_thesis/the_files/SIG_data/cassandra-graphs/cassandra-cassandra-0.4.0-final.csv\n",
      "file to save D:/mm_thesis/Software_graphs/SIG_graph/Cass/cassandra-graphs/Edges/edgest_tst_cassandra-cassandra-0.4.0-final\n",
      "net_file D:/mm_thesis/the_files/SIG_data/cassandra-graphs/cassandra-cassandra-0.4.1.csv\n",
      "file to save D:/mm_thesis/Software_graphs/SIG_graph/Cass/cassandra-graphs/Edges/edgest_tst_cassandra-cassandra-0.4.1\n",
      "net_file D:/mm_thesis/the_files/SIG_data/cassandra-graphs/cassandra-cassandra-0.4.2.csv\n",
      "file to save D:/mm_thesis/Software_graphs/SIG_graph/Cass/cassandra-graphs/Edges/edgest_tst_cassandra-cassandra-0.4.2\n",
      "net_file D:/mm_thesis/the_files/SIG_data/cassandra-graphs/cassandra-cassandra-0.5.0.csv\n",
      "file to save D:/mm_thesis/Software_graphs/SIG_graph/Cass/cassandra-graphs/Edges/edgest_tst_cassandra-cassandra-0.5.0\n",
      "net_file D:/mm_thesis/the_files/SIG_data/cassandra-graphs/cassandra-cassandra-0.5.1.csv\n",
      "file to save D:/mm_thesis/Software_graphs/SIG_graph/Cass/cassandra-graphs/Edges/edgest_tst_cassandra-cassandra-0.5.1\n",
      "net_file D:/mm_thesis/the_files/SIG_data/cassandra-graphs/cassandra-cassandra-0.6.0.csv\n",
      "file to save D:/mm_thesis/Software_graphs/SIG_graph/Cass/cassandra-graphs/Edges/edgest_tst_cassandra-cassandra-0.6.0\n",
      "net_file D:/mm_thesis/the_files/SIG_data/cassandra-graphs/cassandra-cassandra-0.6.1.csv\n",
      "file to save D:/mm_thesis/Software_graphs/SIG_graph/Cass/cassandra-graphs/Edges/edgest_tst_cassandra-cassandra-0.6.1\n",
      "net_file D:/mm_thesis/the_files/SIG_data/cassandra-graphs/cassandra-cassandra-0.6.10.csv\n",
      "file to save D:/mm_thesis/Software_graphs/SIG_graph/Cass/cassandra-graphs/Edges/edgest_tst_cassandra-cassandra-0.6.10\n",
      "net_file D:/mm_thesis/the_files/SIG_data/cassandra-graphs/cassandra-cassandra-0.6.11.csv\n",
      "file to save D:/mm_thesis/Software_graphs/SIG_graph/Cass/cassandra-graphs/Edges/edgest_tst_cassandra-cassandra-0.6.11\n",
      "net_file D:/mm_thesis/the_files/SIG_data/cassandra-graphs/cassandra-cassandra-0.6.12.csv\n",
      "file to save D:/mm_thesis/Software_graphs/SIG_graph/Cass/cassandra-graphs/Edges/edgest_tst_cassandra-cassandra-0.6.12\n",
      "net_file D:/mm_thesis/the_files/SIG_data/cassandra-graphs/cassandra-cassandra-0.6.13.csv\n",
      "file to save D:/mm_thesis/Software_graphs/SIG_graph/Cass/cassandra-graphs/Edges/edgest_tst_cassandra-cassandra-0.6.13\n",
      "net_file D:/mm_thesis/the_files/SIG_data/cassandra-graphs/cassandra-cassandra-0.6.2.csv\n",
      "file to save D:/mm_thesis/Software_graphs/SIG_graph/Cass/cassandra-graphs/Edges/edgest_tst_cassandra-cassandra-0.6.2\n",
      "net_file D:/mm_thesis/the_files/SIG_data/cassandra-graphs/cassandra-cassandra-0.6.3.csv\n",
      "file to save D:/mm_thesis/Software_graphs/SIG_graph/Cass/cassandra-graphs/Edges/edgest_tst_cassandra-cassandra-0.6.3\n",
      "net_file D:/mm_thesis/the_files/SIG_data/cassandra-graphs/cassandra-cassandra-0.6.4.csv\n",
      "file to save D:/mm_thesis/Software_graphs/SIG_graph/Cass/cassandra-graphs/Edges/edgest_tst_cassandra-cassandra-0.6.4\n",
      "net_file D:/mm_thesis/the_files/SIG_data/cassandra-graphs/cassandra-cassandra-0.6.5.csv\n",
      "file to save D:/mm_thesis/Software_graphs/SIG_graph/Cass/cassandra-graphs/Edges/edgest_tst_cassandra-cassandra-0.6.5\n",
      "net_file D:/mm_thesis/the_files/SIG_data/cassandra-graphs/cassandra-cassandra-0.6.6.csv\n",
      "file to save D:/mm_thesis/Software_graphs/SIG_graph/Cass/cassandra-graphs/Edges/edgest_tst_cassandra-cassandra-0.6.6\n",
      "net_file D:/mm_thesis/the_files/SIG_data/cassandra-graphs/cassandra-cassandra-0.6.7.csv\n",
      "file to save D:/mm_thesis/Software_graphs/SIG_graph/Cass/cassandra-graphs/Edges/edgest_tst_cassandra-cassandra-0.6.7\n",
      "net_file D:/mm_thesis/the_files/SIG_data/cassandra-graphs/cassandra-cassandra-0.6.8.csv\n",
      "file to save D:/mm_thesis/Software_graphs/SIG_graph/Cass/cassandra-graphs/Edges/edgest_tst_cassandra-cassandra-0.6.8\n",
      "net_file D:/mm_thesis/the_files/SIG_data/cassandra-graphs/cassandra-cassandra-0.6.9.csv\n",
      "file to save D:/mm_thesis/Software_graphs/SIG_graph/Cass/cassandra-graphs/Edges/edgest_tst_cassandra-cassandra-0.6.9\n",
      "net_file D:/mm_thesis/the_files/SIG_data/cassandra-graphs/cassandra-cassandra-0.7.0.csv\n",
      "file to save D:/mm_thesis/Software_graphs/SIG_graph/Cass/cassandra-graphs/Edges/edgest_tst_cassandra-cassandra-0.7.0\n",
      "net_file D:/mm_thesis/the_files/SIG_data/cassandra-graphs/cassandra-cassandra-0.7.1.csv\n",
      "file to save D:/mm_thesis/Software_graphs/SIG_graph/Cass/cassandra-graphs/Edges/edgest_tst_cassandra-cassandra-0.7.1\n",
      "net_file D:/mm_thesis/the_files/SIG_data/cassandra-graphs/cassandra-cassandra-0.7.10.csv\n",
      "file to save D:/mm_thesis/Software_graphs/SIG_graph/Cass/cassandra-graphs/Edges/edgest_tst_cassandra-cassandra-0.7.10\n",
      "net_file D:/mm_thesis/the_files/SIG_data/cassandra-graphs/cassandra-cassandra-0.7.2.csv\n",
      "file to save D:/mm_thesis/Software_graphs/SIG_graph/Cass/cassandra-graphs/Edges/edgest_tst_cassandra-cassandra-0.7.2\n",
      "net_file D:/mm_thesis/the_files/SIG_data/cassandra-graphs/cassandra-cassandra-0.7.3.csv\n",
      "file to save D:/mm_thesis/Software_graphs/SIG_graph/Cass/cassandra-graphs/Edges/edgest_tst_cassandra-cassandra-0.7.3\n",
      "net_file D:/mm_thesis/the_files/SIG_data/cassandra-graphs/cassandra-cassandra-0.7.4.csv\n",
      "file to save D:/mm_thesis/Software_graphs/SIG_graph/Cass/cassandra-graphs/Edges/edgest_tst_cassandra-cassandra-0.7.4\n",
      "net_file D:/mm_thesis/the_files/SIG_data/cassandra-graphs/cassandra-cassandra-0.7.5.csv\n",
      "file to save D:/mm_thesis/Software_graphs/SIG_graph/Cass/cassandra-graphs/Edges/edgest_tst_cassandra-cassandra-0.7.5\n",
      "net_file D:/mm_thesis/the_files/SIG_data/cassandra-graphs/cassandra-cassandra-0.7.6-2.csv\n",
      "file to save D:/mm_thesis/Software_graphs/SIG_graph/Cass/cassandra-graphs/Edges/edgest_tst_cassandra-cassandra-0.7.6-2\n",
      "net_file D:/mm_thesis/the_files/SIG_data/cassandra-graphs/cassandra-cassandra-0.7.6.csv\n",
      "file to save D:/mm_thesis/Software_graphs/SIG_graph/Cass/cassandra-graphs/Edges/edgest_tst_cassandra-cassandra-0.7.6\n",
      "net_file D:/mm_thesis/the_files/SIG_data/cassandra-graphs/cassandra-cassandra-0.7.7.csv\n",
      "file to save D:/mm_thesis/Software_graphs/SIG_graph/Cass/cassandra-graphs/Edges/edgest_tst_cassandra-cassandra-0.7.7\n",
      "net_file D:/mm_thesis/the_files/SIG_data/cassandra-graphs/cassandra-cassandra-0.7.8.csv\n",
      "file to save D:/mm_thesis/Software_graphs/SIG_graph/Cass/cassandra-graphs/Edges/edgest_tst_cassandra-cassandra-0.7.8\n",
      "net_file D:/mm_thesis/the_files/SIG_data/cassandra-graphs/cassandra-cassandra-0.7.9.csv\n",
      "file to save D:/mm_thesis/Software_graphs/SIG_graph/Cass/cassandra-graphs/Edges/edgest_tst_cassandra-cassandra-0.7.9\n",
      "net_file D:/mm_thesis/the_files/SIG_data/cassandra-graphs/cassandra-cassandra-0.8.0.csv\n",
      "file to save D:/mm_thesis/Software_graphs/SIG_graph/Cass/cassandra-graphs/Edges/edgest_tst_cassandra-cassandra-0.8.0\n",
      "net_file D:/mm_thesis/the_files/SIG_data/cassandra-graphs/cassandra-cassandra-0.8.1.csv\n",
      "file to save D:/mm_thesis/Software_graphs/SIG_graph/Cass/cassandra-graphs/Edges/edgest_tst_cassandra-cassandra-0.8.1\n",
      "net_file D:/mm_thesis/the_files/SIG_data/cassandra-graphs/cassandra-cassandra-0.8.10.csv\n",
      "file to save D:/mm_thesis/Software_graphs/SIG_graph/Cass/cassandra-graphs/Edges/edgest_tst_cassandra-cassandra-0.8.10\n",
      "net_file D:/mm_thesis/the_files/SIG_data/cassandra-graphs/cassandra-cassandra-0.8.2.csv\n",
      "file to save D:/mm_thesis/Software_graphs/SIG_graph/Cass/cassandra-graphs/Edges/edgest_tst_cassandra-cassandra-0.8.2\n",
      "net_file D:/mm_thesis/the_files/SIG_data/cassandra-graphs/cassandra-cassandra-0.8.3.csv\n",
      "file to save D:/mm_thesis/Software_graphs/SIG_graph/Cass/cassandra-graphs/Edges/edgest_tst_cassandra-cassandra-0.8.3\n",
      "net_file D:/mm_thesis/the_files/SIG_data/cassandra-graphs/cassandra-cassandra-0.8.4.csv\n",
      "file to save D:/mm_thesis/Software_graphs/SIG_graph/Cass/cassandra-graphs/Edges/edgest_tst_cassandra-cassandra-0.8.4\n",
      "net_file D:/mm_thesis/the_files/SIG_data/cassandra-graphs/cassandra-cassandra-0.8.5.csv\n",
      "file to save D:/mm_thesis/Software_graphs/SIG_graph/Cass/cassandra-graphs/Edges/edgest_tst_cassandra-cassandra-0.8.5\n"
     ]
    },
    {
     "name": "stdout",
     "output_type": "stream",
     "text": [
      "net_file D:/mm_thesis/the_files/SIG_data/cassandra-graphs/cassandra-cassandra-0.8.6.csv\n",
      "file to save D:/mm_thesis/Software_graphs/SIG_graph/Cass/cassandra-graphs/Edges/edgest_tst_cassandra-cassandra-0.8.6\n",
      "net_file D:/mm_thesis/the_files/SIG_data/cassandra-graphs/cassandra-cassandra-0.8.7.csv\n",
      "file to save D:/mm_thesis/Software_graphs/SIG_graph/Cass/cassandra-graphs/Edges/edgest_tst_cassandra-cassandra-0.8.7\n",
      "net_file D:/mm_thesis/the_files/SIG_data/cassandra-graphs/cassandra-cassandra-0.8.8.csv\n",
      "file to save D:/mm_thesis/Software_graphs/SIG_graph/Cass/cassandra-graphs/Edges/edgest_tst_cassandra-cassandra-0.8.8\n",
      "net_file D:/mm_thesis/the_files/SIG_data/cassandra-graphs/cassandra-cassandra-0.8.9.csv\n",
      "file to save D:/mm_thesis/Software_graphs/SIG_graph/Cass/cassandra-graphs/Edges/edgest_tst_cassandra-cassandra-0.8.9\n",
      "net_file D:/mm_thesis/the_files/SIG_data/cassandra-graphs/cassandra-cassandra-1.0.0.csv\n",
      "file to save D:/mm_thesis/Software_graphs/SIG_graph/Cass/cassandra-graphs/Edges/edgest_tst_cassandra-cassandra-1.0.0\n",
      "net_file D:/mm_thesis/the_files/SIG_data/cassandra-graphs/cassandra-cassandra-1.0.1.csv\n",
      "file to save D:/mm_thesis/Software_graphs/SIG_graph/Cass/cassandra-graphs/Edges/edgest_tst_cassandra-cassandra-1.0.1\n",
      "net_file D:/mm_thesis/the_files/SIG_data/cassandra-graphs/cassandra-cassandra-1.0.10.csv\n",
      "file to save D:/mm_thesis/Software_graphs/SIG_graph/Cass/cassandra-graphs/Edges/edgest_tst_cassandra-cassandra-1.0.10\n",
      "net_file D:/mm_thesis/the_files/SIG_data/cassandra-graphs/cassandra-cassandra-1.0.11.csv\n",
      "file to save D:/mm_thesis/Software_graphs/SIG_graph/Cass/cassandra-graphs/Edges/edgest_tst_cassandra-cassandra-1.0.11\n",
      "net_file D:/mm_thesis/the_files/SIG_data/cassandra-graphs/cassandra-cassandra-1.0.12.csv\n",
      "file to save D:/mm_thesis/Software_graphs/SIG_graph/Cass/cassandra-graphs/Edges/edgest_tst_cassandra-cassandra-1.0.12\n",
      "net_file D:/mm_thesis/the_files/SIG_data/cassandra-graphs/cassandra-cassandra-1.0.2.csv\n",
      "file to save D:/mm_thesis/Software_graphs/SIG_graph/Cass/cassandra-graphs/Edges/edgest_tst_cassandra-cassandra-1.0.2\n",
      "net_file D:/mm_thesis/the_files/SIG_data/cassandra-graphs/cassandra-cassandra-1.0.3.csv\n",
      "file to save D:/mm_thesis/Software_graphs/SIG_graph/Cass/cassandra-graphs/Edges/edgest_tst_cassandra-cassandra-1.0.3\n",
      "net_file D:/mm_thesis/the_files/SIG_data/cassandra-graphs/cassandra-cassandra-1.0.4.csv\n",
      "file to save D:/mm_thesis/Software_graphs/SIG_graph/Cass/cassandra-graphs/Edges/edgest_tst_cassandra-cassandra-1.0.4\n",
      "net_file D:/mm_thesis/the_files/SIG_data/cassandra-graphs/cassandra-cassandra-1.0.5.csv\n",
      "file to save D:/mm_thesis/Software_graphs/SIG_graph/Cass/cassandra-graphs/Edges/edgest_tst_cassandra-cassandra-1.0.5\n",
      "net_file D:/mm_thesis/the_files/SIG_data/cassandra-graphs/cassandra-cassandra-1.0.6.csv\n",
      "file to save D:/mm_thesis/Software_graphs/SIG_graph/Cass/cassandra-graphs/Edges/edgest_tst_cassandra-cassandra-1.0.6\n",
      "net_file D:/mm_thesis/the_files/SIG_data/cassandra-graphs/cassandra-cassandra-1.0.7.csv\n",
      "file to save D:/mm_thesis/Software_graphs/SIG_graph/Cass/cassandra-graphs/Edges/edgest_tst_cassandra-cassandra-1.0.7\n",
      "net_file D:/mm_thesis/the_files/SIG_data/cassandra-graphs/cassandra-cassandra-1.0.8.csv\n",
      "file to save D:/mm_thesis/Software_graphs/SIG_graph/Cass/cassandra-graphs/Edges/edgest_tst_cassandra-cassandra-1.0.8\n",
      "net_file D:/mm_thesis/the_files/SIG_data/cassandra-graphs/cassandra-cassandra-1.0.9.csv\n",
      "file to save D:/mm_thesis/Software_graphs/SIG_graph/Cass/cassandra-graphs/Edges/edgest_tst_cassandra-cassandra-1.0.9\n",
      "net_file D:/mm_thesis/the_files/SIG_data/cassandra-graphs/cassandra-cassandra-1.1.0.csv\n",
      "file to save D:/mm_thesis/Software_graphs/SIG_graph/Cass/cassandra-graphs/Edges/edgest_tst_cassandra-cassandra-1.1.0\n",
      "net_file D:/mm_thesis/the_files/SIG_data/cassandra-graphs/cassandra-cassandra-1.1.1.csv\n",
      "file to save D:/mm_thesis/Software_graphs/SIG_graph/Cass/cassandra-graphs/Edges/edgest_tst_cassandra-cassandra-1.1.1\n",
      "net_file D:/mm_thesis/the_files/SIG_data/cassandra-graphs/cassandra-cassandra-1.1.10.csv\n",
      "file to save D:/mm_thesis/Software_graphs/SIG_graph/Cass/cassandra-graphs/Edges/edgest_tst_cassandra-cassandra-1.1.10\n",
      "net_file D:/mm_thesis/the_files/SIG_data/cassandra-graphs/cassandra-cassandra-1.1.11.csv\n",
      "file to save D:/mm_thesis/Software_graphs/SIG_graph/Cass/cassandra-graphs/Edges/edgest_tst_cassandra-cassandra-1.1.11\n",
      "net_file D:/mm_thesis/the_files/SIG_data/cassandra-graphs/cassandra-cassandra-1.1.12.csv\n",
      "file to save D:/mm_thesis/Software_graphs/SIG_graph/Cass/cassandra-graphs/Edges/edgest_tst_cassandra-cassandra-1.1.12\n",
      "net_file D:/mm_thesis/the_files/SIG_data/cassandra-graphs/cassandra-cassandra-1.1.2.csv\n",
      "file to save D:/mm_thesis/Software_graphs/SIG_graph/Cass/cassandra-graphs/Edges/edgest_tst_cassandra-cassandra-1.1.2\n",
      "net_file D:/mm_thesis/the_files/SIG_data/cassandra-graphs/cassandra-cassandra-1.1.3.csv\n",
      "file to save D:/mm_thesis/Software_graphs/SIG_graph/Cass/cassandra-graphs/Edges/edgest_tst_cassandra-cassandra-1.1.3\n",
      "net_file D:/mm_thesis/the_files/SIG_data/cassandra-graphs/cassandra-cassandra-1.1.4.csv\n",
      "file to save D:/mm_thesis/Software_graphs/SIG_graph/Cass/cassandra-graphs/Edges/edgest_tst_cassandra-cassandra-1.1.4\n",
      "net_file D:/mm_thesis/the_files/SIG_data/cassandra-graphs/cassandra-cassandra-1.1.5.csv\n",
      "file to save D:/mm_thesis/Software_graphs/SIG_graph/Cass/cassandra-graphs/Edges/edgest_tst_cassandra-cassandra-1.1.5\n",
      "net_file D:/mm_thesis/the_files/SIG_data/cassandra-graphs/cassandra-cassandra-1.1.6.csv\n",
      "file to save D:/mm_thesis/Software_graphs/SIG_graph/Cass/cassandra-graphs/Edges/edgest_tst_cassandra-cassandra-1.1.6\n",
      "net_file D:/mm_thesis/the_files/SIG_data/cassandra-graphs/cassandra-cassandra-1.1.7.csv\n",
      "file to save D:/mm_thesis/Software_graphs/SIG_graph/Cass/cassandra-graphs/Edges/edgest_tst_cassandra-cassandra-1.1.7\n",
      "net_file D:/mm_thesis/the_files/SIG_data/cassandra-graphs/cassandra-cassandra-1.1.8.csv\n",
      "file to save D:/mm_thesis/Software_graphs/SIG_graph/Cass/cassandra-graphs/Edges/edgest_tst_cassandra-cassandra-1.1.8\n",
      "net_file D:/mm_thesis/the_files/SIG_data/cassandra-graphs/cassandra-cassandra-1.1.9.csv\n",
      "file to save D:/mm_thesis/Software_graphs/SIG_graph/Cass/cassandra-graphs/Edges/edgest_tst_cassandra-cassandra-1.1.9\n",
      "net_file D:/mm_thesis/the_files/SIG_data/cassandra-graphs/cassandra-cassandra-1.2.0.csv\n",
      "file to save D:/mm_thesis/Software_graphs/SIG_graph/Cass/cassandra-graphs/Edges/edgest_tst_cassandra-cassandra-1.2.0\n",
      "net_file D:/mm_thesis/the_files/SIG_data/cassandra-graphs/cassandra-cassandra-1.2.1.csv\n",
      "file to save D:/mm_thesis/Software_graphs/SIG_graph/Cass/cassandra-graphs/Edges/edgest_tst_cassandra-cassandra-1.2.1\n",
      "net_file D:/mm_thesis/the_files/SIG_data/cassandra-graphs/cassandra-cassandra-1.2.10.csv\n",
      "file to save D:/mm_thesis/Software_graphs/SIG_graph/Cass/cassandra-graphs/Edges/edgest_tst_cassandra-cassandra-1.2.10\n",
      "net_file D:/mm_thesis/the_files/SIG_data/cassandra-graphs/cassandra-cassandra-1.2.2.csv\n",
      "file to save D:/mm_thesis/Software_graphs/SIG_graph/Cass/cassandra-graphs/Edges/edgest_tst_cassandra-cassandra-1.2.2\n",
      "net_file D:/mm_thesis/the_files/SIG_data/cassandra-graphs/cassandra-cassandra-1.2.3.csv\n",
      "file to save D:/mm_thesis/Software_graphs/SIG_graph/Cass/cassandra-graphs/Edges/edgest_tst_cassandra-cassandra-1.2.3\n",
      "net_file D:/mm_thesis/the_files/SIG_data/cassandra-graphs/cassandra-cassandra-1.2.4.csv\n",
      "file to save D:/mm_thesis/Software_graphs/SIG_graph/Cass/cassandra-graphs/Edges/edgest_tst_cassandra-cassandra-1.2.4\n",
      "net_file D:/mm_thesis/the_files/SIG_data/cassandra-graphs/cassandra-cassandra-1.2.5.csv\n",
      "file to save D:/mm_thesis/Software_graphs/SIG_graph/Cass/cassandra-graphs/Edges/edgest_tst_cassandra-cassandra-1.2.5\n",
      "net_file D:/mm_thesis/the_files/SIG_data/cassandra-graphs/cassandra-cassandra-1.2.6.csv\n",
      "file to save D:/mm_thesis/Software_graphs/SIG_graph/Cass/cassandra-graphs/Edges/edgest_tst_cassandra-cassandra-1.2.6\n",
      "net_file D:/mm_thesis/the_files/SIG_data/cassandra-graphs/cassandra-cassandra-1.2.7.csv\n",
      "file to save D:/mm_thesis/Software_graphs/SIG_graph/Cass/cassandra-graphs/Edges/edgest_tst_cassandra-cassandra-1.2.7\n",
      "net_file D:/mm_thesis/the_files/SIG_data/cassandra-graphs/cassandra-cassandra-1.2.8.csv\n",
      "file to save D:/mm_thesis/Software_graphs/SIG_graph/Cass/cassandra-graphs/Edges/edgest_tst_cassandra-cassandra-1.2.8\n",
      "net_file D:/mm_thesis/the_files/SIG_data/cassandra-graphs/cassandra-cassandra-1.2.9.csv\n"
     ]
    },
    {
     "name": "stdout",
     "output_type": "stream",
     "text": [
      "file to save D:/mm_thesis/Software_graphs/SIG_graph/Cass/cassandra-graphs/Edges/edgest_tst_cassandra-cassandra-1.2.9\n",
      "net_file D:/mm_thesis/the_files/SIG_data/cassandra-graphs/cassandra-cassandra-2.0.0.csv\n",
      "file to save D:/mm_thesis/Software_graphs/SIG_graph/Cass/cassandra-graphs/Edges/edgest_tst_cassandra-cassandra-2.0.0\n",
      "net_file D:/mm_thesis/the_files/SIG_data/cassandra-graphs/cassandra-cassandra-2.0.1.csv\n",
      "file to save D:/mm_thesis/Software_graphs/SIG_graph/Cass/cassandra-graphs/Edges/edgest_tst_cassandra-cassandra-2.0.1\n",
      "ver D:/mm_thesis/the_files/SIG_data/chukwa-graphs/\n",
      "soft name ;    chukwa-graphs\n",
      "name from dict CHUKWA\n",
      "D:/mm_thesis/Software_graphs/SIG_graph/CHUKWA/chukwa-graphs/\n",
      "net_file D:/mm_thesis/the_files/SIG_data/chukwa-graphs/chukwa-chukwa-0.2.0.csv\n",
      "file to save D:/mm_thesis/Software_graphs/SIG_graph/CHUKWA/chukwa-graphs/Edges/edgest_tst_chukwa-chukwa-0.2.0\n",
      "net_file D:/mm_thesis/the_files/SIG_data/chukwa-graphs/chukwa-chukwa-0.4.0.csv\n",
      "file to save D:/mm_thesis/Software_graphs/SIG_graph/CHUKWA/chukwa-graphs/Edges/edgest_tst_chukwa-chukwa-0.4.0\n",
      "net_file D:/mm_thesis/the_files/SIG_data/chukwa-graphs/chukwa-chukwa-0.5.0.csv\n",
      "file to save D:/mm_thesis/Software_graphs/SIG_graph/CHUKWA/chukwa-graphs/Edges/edgest_tst_chukwa-chukwa-0.5.0\n",
      "net_file D:/mm_thesis/the_files/SIG_data/chukwa-graphs/chukwa-chukwa-0.7.0.csv\n",
      "file to save D:/mm_thesis/Software_graphs/SIG_graph/CHUKWA/chukwa-graphs/Edges/edgest_tst_chukwa-chukwa-0.7.0\n",
      "net_file D:/mm_thesis/the_files/SIG_data/chukwa-graphs/chukwa-chukwa-0.8.0.csv\n",
      "file to save D:/mm_thesis/Software_graphs/SIG_graph/CHUKWA/chukwa-graphs/Edges/edgest_tst_chukwa-chukwa-0.8.0\n",
      "net_file D:/mm_thesis/the_files/SIG_data/chukwa-graphs/chukwa-release-0.1.2.csv\n",
      "file to save D:/mm_thesis/Software_graphs/SIG_graph/CHUKWA/chukwa-graphs/Edges/edgest_tst_chukwa-release-0.1.2\n",
      "ver D:/mm_thesis/the_files/SIG_data/httpclient-graphs/\n",
      "soft name ;    httpclient-graphs\n",
      "name from dict HC\n",
      "D:/mm_thesis/Software_graphs/SIG_graph/HC/httpclient-graphs/\n",
      "net_file D:/mm_thesis/the_files/SIG_data/httpclient-graphs/httpcomponents-client-4.0.2-RC1.csv\n",
      "file to save D:/mm_thesis/Software_graphs/SIG_graph/HC/httpclient-graphs/Edges/edgest_tst_httpcomponents-client-4.0.2-RC1\n",
      "net_file D:/mm_thesis/the_files/SIG_data/httpclient-graphs/httpcomponents-client-4.0.2-RC2.csv\n",
      "file to save D:/mm_thesis/Software_graphs/SIG_graph/HC/httpclient-graphs/Edges/edgest_tst_httpcomponents-client-4.0.2-RC2\n",
      "net_file D:/mm_thesis/the_files/SIG_data/httpclient-graphs/httpcomponents-client-4.0.2-RC3.csv\n",
      "file to save D:/mm_thesis/Software_graphs/SIG_graph/HC/httpclient-graphs/Edges/edgest_tst_httpcomponents-client-4.0.2-RC3\n",
      "net_file D:/mm_thesis/the_files/SIG_data/httpclient-graphs/httpcomponents-client-4.0.3-RC1.csv\n",
      "file to save D:/mm_thesis/Software_graphs/SIG_graph/HC/httpclient-graphs/Edges/edgest_tst_httpcomponents-client-4.0.3-RC1\n",
      "net_file D:/mm_thesis/the_files/SIG_data/httpclient-graphs/httpcomponents-client-4.1-RC1.csv\n",
      "file to save D:/mm_thesis/Software_graphs/SIG_graph/HC/httpclient-graphs/Edges/edgest_tst_httpcomponents-client-4.1-RC1\n",
      "net_file D:/mm_thesis/the_files/SIG_data/httpclient-graphs/httpcomponents-client-4.1-RC2.csv\n",
      "file to save D:/mm_thesis/Software_graphs/SIG_graph/HC/httpclient-graphs/Edges/edgest_tst_httpcomponents-client-4.1-RC2\n",
      "net_file D:/mm_thesis/the_files/SIG_data/httpclient-graphs/httpcomponents-client-4.1-RC3.csv\n",
      "file to save D:/mm_thesis/Software_graphs/SIG_graph/HC/httpclient-graphs/Edges/edgest_tst_httpcomponents-client-4.1-RC3\n",
      "net_file D:/mm_thesis/the_files/SIG_data/httpclient-graphs/httpcomponents-client-4.1-siteupdate.csv\n",
      "file to save D:/mm_thesis/Software_graphs/SIG_graph/HC/httpclient-graphs/Edges/edgest_tst_httpcomponents-client-4.1-siteupdate\n",
      "net_file D:/mm_thesis/the_files/SIG_data/httpclient-graphs/httpcomponents-client-4.2-RC1.csv\n",
      "file to save D:/mm_thesis/Software_graphs/SIG_graph/HC/httpclient-graphs/Edges/edgest_tst_httpcomponents-client-4.2-RC1\n",
      "net_file D:/mm_thesis/the_files/SIG_data/httpclient-graphs/httpcomponents-client-4.2-RC2.csv\n",
      "file to save D:/mm_thesis/Software_graphs/SIG_graph/HC/httpclient-graphs/Edges/edgest_tst_httpcomponents-client-4.2-RC2\n",
      "net_file D:/mm_thesis/the_files/SIG_data/httpclient-graphs/httpcomponents-client-4.2.1-RC1.csv\n",
      "file to save D:/mm_thesis/Software_graphs/SIG_graph/HC/httpclient-graphs/Edges/edgest_tst_httpcomponents-client-4.2.1-RC1\n",
      "net_file D:/mm_thesis/the_files/SIG_data/httpclient-graphs/httpcomponents-client-4.2.2-RC1.csv\n",
      "file to save D:/mm_thesis/Software_graphs/SIG_graph/HC/httpclient-graphs/Edges/edgest_tst_httpcomponents-client-4.2.2-RC1\n",
      "net_file D:/mm_thesis/the_files/SIG_data/httpclient-graphs/httpcomponents-client-4.2.3-RC1.csv\n",
      "file to save D:/mm_thesis/Software_graphs/SIG_graph/HC/httpclient-graphs/Edges/edgest_tst_httpcomponents-client-4.2.3-RC1\n",
      "net_file D:/mm_thesis/the_files/SIG_data/httpclient-graphs/httpcomponents-client-4.2.3-RC2.csv\n",
      "file to save D:/mm_thesis/Software_graphs/SIG_graph/HC/httpclient-graphs/Edges/edgest_tst_httpcomponents-client-4.2.3-RC2\n",
      "net_file D:/mm_thesis/the_files/SIG_data/httpclient-graphs/httpcomponents-client-4.2.3-RC3.csv\n",
      "file to save D:/mm_thesis/Software_graphs/SIG_graph/HC/httpclient-graphs/Edges/edgest_tst_httpcomponents-client-4.2.3-RC3\n",
      "net_file D:/mm_thesis/the_files/SIG_data/httpclient-graphs/httpcomponents-client-4.2.4-RC1.csv\n",
      "file to save D:/mm_thesis/Software_graphs/SIG_graph/HC/httpclient-graphs/Edges/edgest_tst_httpcomponents-client-4.2.4-RC1\n",
      "net_file D:/mm_thesis/the_files/SIG_data/httpclient-graphs/httpcomponents-client-4.2.5-RC1.csv\n",
      "file to save D:/mm_thesis/Software_graphs/SIG_graph/HC/httpclient-graphs/Edges/edgest_tst_httpcomponents-client-4.2.5-RC1\n",
      "net_file D:/mm_thesis/the_files/SIG_data/httpclient-graphs/httpcomponents-client-4.2.6-RC1.csv\n",
      "file to save D:/mm_thesis/Software_graphs/SIG_graph/HC/httpclient-graphs/Edges/edgest_tst_httpcomponents-client-4.2.6-RC1\n",
      "net_file D:/mm_thesis/the_files/SIG_data/httpclient-graphs/httpcomponents-client-4.2.6-RC2.csv\n",
      "file to save D:/mm_thesis/Software_graphs/SIG_graph/HC/httpclient-graphs/Edges/edgest_tst_httpcomponents-client-4.2.6-RC2\n",
      "net_file D:/mm_thesis/the_files/SIG_data/httpclient-graphs/httpcomponents-client-4.3-RC1.csv\n",
      "file to save D:/mm_thesis/Software_graphs/SIG_graph/HC/httpclient-graphs/Edges/edgest_tst_httpcomponents-client-4.3-RC1\n",
      "net_file D:/mm_thesis/the_files/SIG_data/httpclient-graphs/httpcomponents-client-4.3.1-RC1.csv\n",
      "file to save D:/mm_thesis/Software_graphs/SIG_graph/HC/httpclient-graphs/Edges/edgest_tst_httpcomponents-client-4.3.1-RC1\n",
      "net_file D:/mm_thesis/the_files/SIG_data/httpclient-graphs/httpcomponents-client-4.3.1-RC2.csv\n",
      "file to save D:/mm_thesis/Software_graphs/SIG_graph/HC/httpclient-graphs/Edges/edgest_tst_httpcomponents-client-4.3.1-RC2\n",
      "net_file D:/mm_thesis/the_files/SIG_data/httpclient-graphs/httpcomponents-client-4.3.2-RC1.csv\n",
      "file to save D:/mm_thesis/Software_graphs/SIG_graph/HC/httpclient-graphs/Edges/edgest_tst_httpcomponents-client-4.3.2-RC1\n",
      "net_file D:/mm_thesis/the_files/SIG_data/httpclient-graphs/httpcomponents-client-4.3.3-RC1.csv\n",
      "file to save D:/mm_thesis/Software_graphs/SIG_graph/HC/httpclient-graphs/Edges/edgest_tst_httpcomponents-client-4.3.3-RC1\n",
      "net_file D:/mm_thesis/the_files/SIG_data/httpclient-graphs/httpcomponents-client-4.3.4-RC1.csv\n",
      "file to save D:/mm_thesis/Software_graphs/SIG_graph/HC/httpclient-graphs/Edges/edgest_tst_httpcomponents-client-4.3.4-RC1\n",
      "net_file D:/mm_thesis/the_files/SIG_data/httpclient-graphs/httpcomponents-client-4.3.5-RC1.csv\n",
      "file to save D:/mm_thesis/Software_graphs/SIG_graph/HC/httpclient-graphs/Edges/edgest_tst_httpcomponents-client-4.3.5-RC1\n",
      "net_file D:/mm_thesis/the_files/SIG_data/httpclient-graphs/httpcomponents-client-4.3.6-RC1.csv\n",
      "file to save D:/mm_thesis/Software_graphs/SIG_graph/HC/httpclient-graphs/Edges/edgest_tst_httpcomponents-client-4.3.6-RC1\n",
      "net_file D:/mm_thesis/the_files/SIG_data/httpclient-graphs/httpcomponents-client-4.4-RC1.csv\n",
      "file to save D:/mm_thesis/Software_graphs/SIG_graph/HC/httpclient-graphs/Edges/edgest_tst_httpcomponents-client-4.4-RC1\n",
      "net_file D:/mm_thesis/the_files/SIG_data/httpclient-graphs/httpcomponents-client-4.4-RC2.csv\n",
      "file to save D:/mm_thesis/Software_graphs/SIG_graph/HC/httpclient-graphs/Edges/edgest_tst_httpcomponents-client-4.4-RC2\n",
      "net_file D:/mm_thesis/the_files/SIG_data/httpclient-graphs/httpcomponents-client-4.4.1-RC1.csv\n"
     ]
    },
    {
     "name": "stdout",
     "output_type": "stream",
     "text": [
      "file to save D:/mm_thesis/Software_graphs/SIG_graph/HC/httpclient-graphs/Edges/edgest_tst_httpcomponents-client-4.4.1-RC1\n",
      "net_file D:/mm_thesis/the_files/SIG_data/httpclient-graphs/httpcomponents-client-4.5-RC1.csv\n",
      "file to save D:/mm_thesis/Software_graphs/SIG_graph/HC/httpclient-graphs/Edges/edgest_tst_httpcomponents-client-4.5-RC1\n",
      "net_file D:/mm_thesis/the_files/SIG_data/httpclient-graphs/httpcomponents-client-4.5-RC2.csv\n",
      "file to save D:/mm_thesis/Software_graphs/SIG_graph/HC/httpclient-graphs/Edges/edgest_tst_httpcomponents-client-4.5-RC2\n",
      "net_file D:/mm_thesis/the_files/SIG_data/httpclient-graphs/httpcomponents-client-4.5.1-RC1.csv\n",
      "file to save D:/mm_thesis/Software_graphs/SIG_graph/HC/httpclient-graphs/Edges/edgest_tst_httpcomponents-client-4.5.1-RC1\n",
      "net_file D:/mm_thesis/the_files/SIG_data/httpclient-graphs/httpcomponents-client-4_0_API_FREEZE.csv\n",
      "file to save D:/mm_thesis/Software_graphs/SIG_graph/HC/httpclient-graphs/Edges/edgest_tst_httpcomponents-client-4_0_API_FREEZE\n",
      "ver D:/mm_thesis/the_files/SIG_data/ivy-graphs/\n",
      "soft name ;    ivy-graphs\n",
      "name from dict IVY\n",
      "D:/mm_thesis/Software_graphs/SIG_graph/IVY/ivy-graphs/\n",
      "net_file D:/mm_thesis/the_files/SIG_data/ivy-graphs/ant-ivy-1.4.1.csv\n",
      "file to save D:/mm_thesis/Software_graphs/SIG_graph/IVY/ivy-graphs/Edges/edgest_tst_ant-ivy-1.4.1\n",
      "net_file D:/mm_thesis/the_files/SIG_data/ivy-graphs/ant-ivy-2.0.0-alpha2.csv\n",
      "file to save D:/mm_thesis/Software_graphs/SIG_graph/IVY/ivy-graphs/Edges/edgest_tst_ant-ivy-2.0.0-alpha2\n",
      "net_file D:/mm_thesis/the_files/SIG_data/ivy-graphs/ant-ivy-2.0.0-beta1.csv\n",
      "file to save D:/mm_thesis/Software_graphs/SIG_graph/IVY/ivy-graphs/Edges/edgest_tst_ant-ivy-2.0.0-beta1\n",
      "net_file D:/mm_thesis/the_files/SIG_data/ivy-graphs/ant-ivy-2.0.0-beta2.csv\n",
      "file to save D:/mm_thesis/Software_graphs/SIG_graph/IVY/ivy-graphs/Edges/edgest_tst_ant-ivy-2.0.0-beta2\n",
      "net_file D:/mm_thesis/the_files/SIG_data/ivy-graphs/ant-ivy-2.0.0-rc1.csv\n",
      "file to save D:/mm_thesis/Software_graphs/SIG_graph/IVY/ivy-graphs/Edges/edgest_tst_ant-ivy-2.0.0-rc1\n",
      "net_file D:/mm_thesis/the_files/SIG_data/ivy-graphs/ant-ivy-2.0.0-rc2.csv\n",
      "file to save D:/mm_thesis/Software_graphs/SIG_graph/IVY/ivy-graphs/Edges/edgest_tst_ant-ivy-2.0.0-rc2\n",
      "net_file D:/mm_thesis/the_files/SIG_data/ivy-graphs/ant-ivy-2.0.0.csv\n",
      "file to save D:/mm_thesis/Software_graphs/SIG_graph/IVY/ivy-graphs/Edges/edgest_tst_ant-ivy-2.0.0\n",
      "net_file D:/mm_thesis/the_files/SIG_data/ivy-graphs/ant-ivy-2.1.0-rc1.csv\n",
      "file to save D:/mm_thesis/Software_graphs/SIG_graph/IVY/ivy-graphs/Edges/edgest_tst_ant-ivy-2.1.0-rc1\n",
      "net_file D:/mm_thesis/the_files/SIG_data/ivy-graphs/ant-ivy-2.1.0-rc2.csv\n",
      "file to save D:/mm_thesis/Software_graphs/SIG_graph/IVY/ivy-graphs/Edges/edgest_tst_ant-ivy-2.1.0-rc2\n",
      "net_file D:/mm_thesis/the_files/SIG_data/ivy-graphs/ant-ivy-2.1.0.csv\n",
      "file to save D:/mm_thesis/Software_graphs/SIG_graph/IVY/ivy-graphs/Edges/edgest_tst_ant-ivy-2.1.0\n",
      "net_file D:/mm_thesis/the_files/SIG_data/ivy-graphs/ant-ivy-2.2.0-rc1.csv\n",
      "file to save D:/mm_thesis/Software_graphs/SIG_graph/IVY/ivy-graphs/Edges/edgest_tst_ant-ivy-2.2.0-rc1\n",
      "net_file D:/mm_thesis/the_files/SIG_data/ivy-graphs/ant-ivy-2.2.0.csv\n",
      "file to save D:/mm_thesis/Software_graphs/SIG_graph/IVY/ivy-graphs/Edges/edgest_tst_ant-ivy-2.2.0\n",
      "net_file D:/mm_thesis/the_files/SIG_data/ivy-graphs/ant-ivy-2.3.0-rc1.csv\n",
      "file to save D:/mm_thesis/Software_graphs/SIG_graph/IVY/ivy-graphs/Edges/edgest_tst_ant-ivy-2.3.0-rc1\n",
      "net_file D:/mm_thesis/the_files/SIG_data/ivy-graphs/ant-ivy-2.3.0-rc2.csv\n",
      "file to save D:/mm_thesis/Software_graphs/SIG_graph/IVY/ivy-graphs/Edges/edgest_tst_ant-ivy-2.3.0-rc2\n",
      "net_file D:/mm_thesis/the_files/SIG_data/ivy-graphs/ant-ivy-2.3.0.csv\n",
      "file to save D:/mm_thesis/Software_graphs/SIG_graph/IVY/ivy-graphs/Edges/edgest_tst_ant-ivy-2.3.0\n",
      "net_file D:/mm_thesis/the_files/SIG_data/ivy-graphs/ant-ivy-2.4.0-rc1.csv\n",
      "file to save D:/mm_thesis/Software_graphs/SIG_graph/IVY/ivy-graphs/Edges/edgest_tst_ant-ivy-2.4.0-rc1\n",
      "net_file D:/mm_thesis/the_files/SIG_data/ivy-graphs/ant-ivy-2.4.0-rc1_OLD.csv\n",
      "file to save D:/mm_thesis/Software_graphs/SIG_graph/IVY/ivy-graphs/Edges/edgest_tst_ant-ivy-2.4.0-rc1_OLD\n",
      "net_file D:/mm_thesis/the_files/SIG_data/ivy-graphs/ant-ivy-2.4.0.csv\n",
      "file to save D:/mm_thesis/Software_graphs/SIG_graph/IVY/ivy-graphs/Edges/edgest_tst_ant-ivy-2.4.0\n",
      "ver D:/mm_thesis/the_files/SIG_data/jena-graphs/\n",
      "soft name ;    jena-graphs\n",
      "name from dict JENA\n",
      "D:/mm_thesis/Software_graphs/SIG_graph/JENA/jena-graphs/\n",
      "net_file D:/mm_thesis/the_files/SIG_data/jena-graphs/jena-jena-2.10.0.csv\n",
      "file to save D:/mm_thesis/Software_graphs/SIG_graph/JENA/jena-graphs/Edges/edgest_tst_jena-jena-2.10.0\n",
      "net_file D:/mm_thesis/the_files/SIG_data/jena-graphs/jena-jena-2.10.1.csv\n",
      "file to save D:/mm_thesis/Software_graphs/SIG_graph/JENA/jena-graphs/Edges/edgest_tst_jena-jena-2.10.1\n",
      "net_file D:/mm_thesis/the_files/SIG_data/jena-graphs/jena-jena-2.11.0.csv\n",
      "file to save D:/mm_thesis/Software_graphs/SIG_graph/JENA/jena-graphs/Edges/edgest_tst_jena-jena-2.11.0\n",
      "net_file D:/mm_thesis/the_files/SIG_data/jena-graphs/jena-jena-2.7.1.csv\n",
      "file to save D:/mm_thesis/Software_graphs/SIG_graph/JENA/jena-graphs/Edges/edgest_tst_jena-jena-2.7.1\n",
      "net_file D:/mm_thesis/the_files/SIG_data/jena-graphs/jena-jena-2.7.2.csv\n",
      "file to save D:/mm_thesis/Software_graphs/SIG_graph/JENA/jena-graphs/Edges/edgest_tst_jena-jena-2.7.2\n",
      "net_file D:/mm_thesis/the_files/SIG_data/jena-graphs/jena-jena-2.7.3.csv\n",
      "file to save D:/mm_thesis/Software_graphs/SIG_graph/JENA/jena-graphs/Edges/edgest_tst_jena-jena-2.7.3\n",
      "net_file D:/mm_thesis/the_files/SIG_data/jena-graphs/jena-jena-2.7.4.csv\n",
      "file to save D:/mm_thesis/Software_graphs/SIG_graph/JENA/jena-graphs/Edges/edgest_tst_jena-jena-2.7.4\n"
     ]
    }
   ],
   "source": [
    "\n",
    "import itertools \n",
    "# for ver in try_graph:\n",
    "for ver in soft_files:\n",
    "    print('ver',ver)\n",
    "    soft_e = ver.rfind(\"/\")\n",
    "    soft_n = ver[:soft_e]\n",
    "    soft_n1 = soft_n.rfind(\"/\") +1\n",
    "    soft_name = ver[soft_n1:soft_e] +\"/\"\n",
    "    print('soft name ;   ',soft_name[:-1])\n",
    "#     print('dir to fill')\n",
    "    \n",
    "    dir_name = mydict.get(soft_name[:-1])\n",
    "    print('name from dict', dir_name)\n",
    "    save_path = sig_net_path + dir_name +'/'+soft_name\n",
    "    print(sig_net_path + dir_name +'/'+soft_name)\n",
    "    \n",
    "# #     print(os.join.path(sig_net_path,dir_name)\n",
    "# #     print(\"dir to make\", sig_net_path+soft_name)\n",
    "# #     os.makedirs(sig_net_path+soft_name)\n",
    "# #     os.makedirs(csv_path, ver) \n",
    "    ver_list = os.listdir(ver)\n",
    "#     #print(\"ver list:   \", ver_list)\n",
    "#    # print(\"VER list   :\", ver_list)\n",
    "    ver_files = [(os.path.join(ver,infile ))for infile in ver_list]\n",
    "#     counter_i = 0\n",
    "    for net_file in ver_files:\n",
    "        print('net_file',net_file)\n",
    "        soft_ver = ver.rfind(\"/\")\n",
    "        ver_name = net_file[soft_ver+1: -4]\n",
    "        ver_save = net_file[soft_ver+1: ]\n",
    "#         print('ver name   :', ver_name)\n",
    "        name_lookup = ver_name+'.tar.gz'\n",
    "#         print(name_lookup)\n",
    "#         print(lookup_df[lookup_df['tarfile'] == name_lookup])\n",
    "        t_stamp = lookup_df[lookup_df['tarfile'] == name_lookup]['stamp'].values[0]\n",
    "#         print(t_stamp)\n",
    "#         print(30*'_')\n",
    "        edge_net = []\n",
    "        Nodes_net = []\n",
    "        lines = [ line.strip() for line in open(net_file)]\n",
    "   \n",
    "        for line in lines:\n",
    "            currentline = line.split(\"\\n\")\n",
    "           # print('line', line)\n",
    "    #print( currentline)\n",
    "            z = currentline[0]\n",
    "            z1 = z.split(';')\n",
    "    #z1[1] = z1[1].strip(\"\\n\")\n",
    "    #print(z1[1])\n",
    "            source = z1[0]\n",
    "            #print(\"source:\", source)\n",
    "            sloc = source.rfind(\"_$\")\n",
    "            source = source[0:sloc] \n",
    "    #Method =source.rfind(\".\")\n",
    "    #arg_st = Method.rfind(\"(\")\n",
    "            Node,m_class,m_package,margs = get_nodes(source)\n",
    "            Nodes_net.append([Node,m_class,m_package,margs])\n",
    "            source_n = Node\n",
    "    #print(type(margs))\n",
    "   \n",
    "    #if len(margs) == 0:\n",
    "    #    margs = \"\"\n",
    "            #print(\"s_args:\", margs)\n",
    "            target = z1[1].strip(\"\\n\")\n",
    "    \n",
    "            tloc = target.rfind(\"_$\")\n",
    "            target= target[0:tloc] \n",
    "            #print(\"target:\", target)\n",
    "            Node, m_class,m_package,margs = get_nodes(target)\n",
    "    #if len(margs) == 0:\n",
    "    #    margs = \"\"\n",
    "            #print(\"t_args:\", margs)\n",
    "            Nodes_net.append([Node, m_class,m_package,margs])\n",
    "            target_n = Node\n",
    "            ##print(counter_i,'\\n')\n",
    "            ##print(source, '==', target)\n",
    "            ##print(source_n,'::', target_n)\n",
    "            ##print(100*'*')\n",
    "#             counter_i = counter_i + 1\n",
    "            edge_net.append([source_n , target_n]) \n",
    "            \n",
    "        Nodes_df = pd.DataFrame(Nodes_net) \n",
    "        Nodes_df.columns= ['Node','class','package','args']\n",
    "        Nodes_df['Version'] = ver_name\n",
    "        Nodes_df['t_stmp'] = t_stamp\n",
    "        sig_df = pd.DataFrame(edge_net)\n",
    "\n",
    "        sig_df.columns =['source', 'target']\n",
    "        sig_df['Version'] = ver_name\n",
    "        sig_df['t_stmp'] = t_stamp\n",
    "        print(\"file to save\",save_path +'Edges/'+'edgest_'+ver_name)\n",
    "        sig_df.to_csv(save_path +'Edges/'+'edges_'+ver_save, index=False)\n",
    "        Nodes_df.to_csv(save_path+'NODES/'+'nodes_'+ver_save, index=False)\n",
    "#       "
   ]
  },
  {
   "cell_type": "code",
   "execution_count": 5,
   "metadata": {},
   "outputs": [],
   "source": [
    "csv_SIG = 'D:/mm_thesis/Software_graphs/SIG_graph/'\n",
    "csv_path_l = os.listdir(csv_SIG)\n",
    "csv_files = [(os.path.join(csv_SIG,infile)+\"/\") for infile in csv_path_l]"
   ]
  },
  {
   "cell_type": "code",
   "execution_count": 6,
   "metadata": {},
   "outputs": [
    {
     "name": "stdout",
     "output_type": "stream",
     "text": [
      "D:/mm_thesis/Software_graphs/SIG_graph/Cass/\n",
      "D:/mm_thesis/Software_graphs/SIG_graph/CHUKWA/\n",
      "D:/mm_thesis/Software_graphs/SIG_graph/HC/\n",
      "D:/mm_thesis/Software_graphs/SIG_graph/IVY/\n",
      "D:/mm_thesis/Software_graphs/SIG_graph/JENA/\n"
     ]
    }
   ],
   "source": [
    "for net in csv_files:\n",
    "    print(net)"
   ]
  },
  {
   "cell_type": "code",
   "execution_count": 17,
   "metadata": {},
   "outputs": [
    {
     "name": "stdout",
     "output_type": "stream",
     "text": [
      "net D:/mm_thesis/Software_graphs/SIG_graph/Cass/\n",
      "n-graph D:/mm_thesis/Software_graphs/SIG_graph/Cass/cassandra-graphs/NODES/\n",
      "node-path ['D:/mm_thesis/Software_graphs/SIG_graph/Cass/cassandra-graphs/NODES/nodes_cassandra-cassandra-0.3.0-final.csv', 'D:/mm_thesis/Software_graphs/SIG_graph/Cass/cassandra-graphs/NODES/nodes_cassandra-cassandra-0.4.0-final.csv', 'D:/mm_thesis/Software_graphs/SIG_graph/Cass/cassandra-graphs/NODES/nodes_cassandra-cassandra-0.4.1.csv', 'D:/mm_thesis/Software_graphs/SIG_graph/Cass/cassandra-graphs/NODES/nodes_cassandra-cassandra-0.4.2.csv', 'D:/mm_thesis/Software_graphs/SIG_graph/Cass/cassandra-graphs/NODES/nodes_cassandra-cassandra-0.5.0.csv', 'D:/mm_thesis/Software_graphs/SIG_graph/Cass/cassandra-graphs/NODES/nodes_cassandra-cassandra-0.5.1.csv', 'D:/mm_thesis/Software_graphs/SIG_graph/Cass/cassandra-graphs/NODES/nodes_cassandra-cassandra-0.6.0.csv', 'D:/mm_thesis/Software_graphs/SIG_graph/Cass/cassandra-graphs/NODES/nodes_cassandra-cassandra-0.6.1.csv', 'D:/mm_thesis/Software_graphs/SIG_graph/Cass/cassandra-graphs/NODES/nodes_cassandra-cassandra-0.6.10.csv', 'D:/mm_thesis/Software_graphs/SIG_graph/Cass/cassandra-graphs/NODES/nodes_cassandra-cassandra-0.6.11.csv', 'D:/mm_thesis/Software_graphs/SIG_graph/Cass/cassandra-graphs/NODES/nodes_cassandra-cassandra-0.6.12.csv', 'D:/mm_thesis/Software_graphs/SIG_graph/Cass/cassandra-graphs/NODES/nodes_cassandra-cassandra-0.6.13.csv', 'D:/mm_thesis/Software_graphs/SIG_graph/Cass/cassandra-graphs/NODES/nodes_cassandra-cassandra-0.6.2.csv', 'D:/mm_thesis/Software_graphs/SIG_graph/Cass/cassandra-graphs/NODES/nodes_cassandra-cassandra-0.6.3.csv', 'D:/mm_thesis/Software_graphs/SIG_graph/Cass/cassandra-graphs/NODES/nodes_cassandra-cassandra-0.6.4.csv', 'D:/mm_thesis/Software_graphs/SIG_graph/Cass/cassandra-graphs/NODES/nodes_cassandra-cassandra-0.6.5.csv', 'D:/mm_thesis/Software_graphs/SIG_graph/Cass/cassandra-graphs/NODES/nodes_cassandra-cassandra-0.6.6.csv', 'D:/mm_thesis/Software_graphs/SIG_graph/Cass/cassandra-graphs/NODES/nodes_cassandra-cassandra-0.6.7.csv', 'D:/mm_thesis/Software_graphs/SIG_graph/Cass/cassandra-graphs/NODES/nodes_cassandra-cassandra-0.6.8.csv', 'D:/mm_thesis/Software_graphs/SIG_graph/Cass/cassandra-graphs/NODES/nodes_cassandra-cassandra-0.6.9.csv', 'D:/mm_thesis/Software_graphs/SIG_graph/Cass/cassandra-graphs/NODES/nodes_cassandra-cassandra-0.7.0.csv', 'D:/mm_thesis/Software_graphs/SIG_graph/Cass/cassandra-graphs/NODES/nodes_cassandra-cassandra-0.7.1.csv', 'D:/mm_thesis/Software_graphs/SIG_graph/Cass/cassandra-graphs/NODES/nodes_cassandra-cassandra-0.7.10.csv', 'D:/mm_thesis/Software_graphs/SIG_graph/Cass/cassandra-graphs/NODES/nodes_cassandra-cassandra-0.7.2.csv', 'D:/mm_thesis/Software_graphs/SIG_graph/Cass/cassandra-graphs/NODES/nodes_cassandra-cassandra-0.7.3.csv', 'D:/mm_thesis/Software_graphs/SIG_graph/Cass/cassandra-graphs/NODES/nodes_cassandra-cassandra-0.7.4.csv', 'D:/mm_thesis/Software_graphs/SIG_graph/Cass/cassandra-graphs/NODES/nodes_cassandra-cassandra-0.7.5.csv', 'D:/mm_thesis/Software_graphs/SIG_graph/Cass/cassandra-graphs/NODES/nodes_cassandra-cassandra-0.7.6-2.csv', 'D:/mm_thesis/Software_graphs/SIG_graph/Cass/cassandra-graphs/NODES/nodes_cassandra-cassandra-0.7.6.csv', 'D:/mm_thesis/Software_graphs/SIG_graph/Cass/cassandra-graphs/NODES/nodes_cassandra-cassandra-0.7.7.csv', 'D:/mm_thesis/Software_graphs/SIG_graph/Cass/cassandra-graphs/NODES/nodes_cassandra-cassandra-0.7.8.csv', 'D:/mm_thesis/Software_graphs/SIG_graph/Cass/cassandra-graphs/NODES/nodes_cassandra-cassandra-0.7.9.csv', 'D:/mm_thesis/Software_graphs/SIG_graph/Cass/cassandra-graphs/NODES/nodes_cassandra-cassandra-0.8.0.csv', 'D:/mm_thesis/Software_graphs/SIG_graph/Cass/cassandra-graphs/NODES/nodes_cassandra-cassandra-0.8.1.csv', 'D:/mm_thesis/Software_graphs/SIG_graph/Cass/cassandra-graphs/NODES/nodes_cassandra-cassandra-0.8.10.csv', 'D:/mm_thesis/Software_graphs/SIG_graph/Cass/cassandra-graphs/NODES/nodes_cassandra-cassandra-0.8.2.csv', 'D:/mm_thesis/Software_graphs/SIG_graph/Cass/cassandra-graphs/NODES/nodes_cassandra-cassandra-0.8.3.csv', 'D:/mm_thesis/Software_graphs/SIG_graph/Cass/cassandra-graphs/NODES/nodes_cassandra-cassandra-0.8.4.csv', 'D:/mm_thesis/Software_graphs/SIG_graph/Cass/cassandra-graphs/NODES/nodes_cassandra-cassandra-0.8.5.csv', 'D:/mm_thesis/Software_graphs/SIG_graph/Cass/cassandra-graphs/NODES/nodes_cassandra-cassandra-0.8.6.csv', 'D:/mm_thesis/Software_graphs/SIG_graph/Cass/cassandra-graphs/NODES/nodes_cassandra-cassandra-0.8.7.csv', 'D:/mm_thesis/Software_graphs/SIG_graph/Cass/cassandra-graphs/NODES/nodes_cassandra-cassandra-0.8.8.csv', 'D:/mm_thesis/Software_graphs/SIG_graph/Cass/cassandra-graphs/NODES/nodes_cassandra-cassandra-0.8.9.csv', 'D:/mm_thesis/Software_graphs/SIG_graph/Cass/cassandra-graphs/NODES/nodes_cassandra-cassandra-1.0.0.csv', 'D:/mm_thesis/Software_graphs/SIG_graph/Cass/cassandra-graphs/NODES/nodes_cassandra-cassandra-1.0.1.csv', 'D:/mm_thesis/Software_graphs/SIG_graph/Cass/cassandra-graphs/NODES/nodes_cassandra-cassandra-1.0.10.csv', 'D:/mm_thesis/Software_graphs/SIG_graph/Cass/cassandra-graphs/NODES/nodes_cassandra-cassandra-1.0.11.csv', 'D:/mm_thesis/Software_graphs/SIG_graph/Cass/cassandra-graphs/NODES/nodes_cassandra-cassandra-1.0.12.csv', 'D:/mm_thesis/Software_graphs/SIG_graph/Cass/cassandra-graphs/NODES/nodes_cassandra-cassandra-1.0.2.csv', 'D:/mm_thesis/Software_graphs/SIG_graph/Cass/cassandra-graphs/NODES/nodes_cassandra-cassandra-1.0.3.csv', 'D:/mm_thesis/Software_graphs/SIG_graph/Cass/cassandra-graphs/NODES/nodes_cassandra-cassandra-1.0.4.csv', 'D:/mm_thesis/Software_graphs/SIG_graph/Cass/cassandra-graphs/NODES/nodes_cassandra-cassandra-1.0.5.csv', 'D:/mm_thesis/Software_graphs/SIG_graph/Cass/cassandra-graphs/NODES/nodes_cassandra-cassandra-1.0.6.csv', 'D:/mm_thesis/Software_graphs/SIG_graph/Cass/cassandra-graphs/NODES/nodes_cassandra-cassandra-1.0.7.csv', 'D:/mm_thesis/Software_graphs/SIG_graph/Cass/cassandra-graphs/NODES/nodes_cassandra-cassandra-1.0.8.csv', 'D:/mm_thesis/Software_graphs/SIG_graph/Cass/cassandra-graphs/NODES/nodes_cassandra-cassandra-1.0.9.csv', 'D:/mm_thesis/Software_graphs/SIG_graph/Cass/cassandra-graphs/NODES/nodes_cassandra-cassandra-1.1.0.csv', 'D:/mm_thesis/Software_graphs/SIG_graph/Cass/cassandra-graphs/NODES/nodes_cassandra-cassandra-1.1.1.csv', 'D:/mm_thesis/Software_graphs/SIG_graph/Cass/cassandra-graphs/NODES/nodes_cassandra-cassandra-1.1.10.csv', 'D:/mm_thesis/Software_graphs/SIG_graph/Cass/cassandra-graphs/NODES/nodes_cassandra-cassandra-1.1.11.csv', 'D:/mm_thesis/Software_graphs/SIG_graph/Cass/cassandra-graphs/NODES/nodes_cassandra-cassandra-1.1.12.csv', 'D:/mm_thesis/Software_graphs/SIG_graph/Cass/cassandra-graphs/NODES/nodes_cassandra-cassandra-1.1.2.csv', 'D:/mm_thesis/Software_graphs/SIG_graph/Cass/cassandra-graphs/NODES/nodes_cassandra-cassandra-1.1.3.csv', 'D:/mm_thesis/Software_graphs/SIG_graph/Cass/cassandra-graphs/NODES/nodes_cassandra-cassandra-1.1.4.csv', 'D:/mm_thesis/Software_graphs/SIG_graph/Cass/cassandra-graphs/NODES/nodes_cassandra-cassandra-1.1.5.csv', 'D:/mm_thesis/Software_graphs/SIG_graph/Cass/cassandra-graphs/NODES/nodes_cassandra-cassandra-1.1.6.csv', 'D:/mm_thesis/Software_graphs/SIG_graph/Cass/cassandra-graphs/NODES/nodes_cassandra-cassandra-1.1.7.csv', 'D:/mm_thesis/Software_graphs/SIG_graph/Cass/cassandra-graphs/NODES/nodes_cassandra-cassandra-1.1.8.csv', 'D:/mm_thesis/Software_graphs/SIG_graph/Cass/cassandra-graphs/NODES/nodes_cassandra-cassandra-1.1.9.csv', 'D:/mm_thesis/Software_graphs/SIG_graph/Cass/cassandra-graphs/NODES/nodes_cassandra-cassandra-1.2.0.csv', 'D:/mm_thesis/Software_graphs/SIG_graph/Cass/cassandra-graphs/NODES/nodes_cassandra-cassandra-1.2.1.csv', 'D:/mm_thesis/Software_graphs/SIG_graph/Cass/cassandra-graphs/NODES/nodes_cassandra-cassandra-1.2.10.csv', 'D:/mm_thesis/Software_graphs/SIG_graph/Cass/cassandra-graphs/NODES/nodes_cassandra-cassandra-1.2.2.csv', 'D:/mm_thesis/Software_graphs/SIG_graph/Cass/cassandra-graphs/NODES/nodes_cassandra-cassandra-1.2.3.csv', 'D:/mm_thesis/Software_graphs/SIG_graph/Cass/cassandra-graphs/NODES/nodes_cassandra-cassandra-1.2.4.csv', 'D:/mm_thesis/Software_graphs/SIG_graph/Cass/cassandra-graphs/NODES/nodes_cassandra-cassandra-1.2.5.csv', 'D:/mm_thesis/Software_graphs/SIG_graph/Cass/cassandra-graphs/NODES/nodes_cassandra-cassandra-1.2.6.csv', 'D:/mm_thesis/Software_graphs/SIG_graph/Cass/cassandra-graphs/NODES/nodes_cassandra-cassandra-1.2.7.csv', 'D:/mm_thesis/Software_graphs/SIG_graph/Cass/cassandra-graphs/NODES/nodes_cassandra-cassandra-1.2.8.csv', 'D:/mm_thesis/Software_graphs/SIG_graph/Cass/cassandra-graphs/NODES/nodes_cassandra-cassandra-1.2.9.csv', 'D:/mm_thesis/Software_graphs/SIG_graph/Cass/cassandra-graphs/NODES/nodes_cassandra-cassandra-2.0.0.csv', 'D:/mm_thesis/Software_graphs/SIG_graph/Cass/cassandra-graphs/NODES/nodes_cassandra-cassandra-2.0.1.csv']\n"
     ]
    },
    {
     "name": "stdout",
     "output_type": "stream",
     "text": [
      "all_nodes 1728734\n",
      "no dup 7857\n",
      "++++++++++++++++++++++++++++++\n",
      "save_file : D:/mm_thesis/Software_graphs/SIG_graph/Cass/all_nodes.csv\n",
      "net D:/mm_thesis/Software_graphs/SIG_graph/CHUKWA/\n",
      "n-graph D:/mm_thesis/Software_graphs/SIG_graph/CHUKWA/chukwa-graphs/NODES/\n",
      "node-path ['D:/mm_thesis/Software_graphs/SIG_graph/CHUKWA/chukwa-graphs/NODES/nodes_chukwa-chukwa-0.2.0.csv', 'D:/mm_thesis/Software_graphs/SIG_graph/CHUKWA/chukwa-graphs/NODES/nodes_chukwa-chukwa-0.4.0.csv', 'D:/mm_thesis/Software_graphs/SIG_graph/CHUKWA/chukwa-graphs/NODES/nodes_chukwa-chukwa-0.5.0.csv', 'D:/mm_thesis/Software_graphs/SIG_graph/CHUKWA/chukwa-graphs/NODES/nodes_chukwa-chukwa-0.7.0.csv', 'D:/mm_thesis/Software_graphs/SIG_graph/CHUKWA/chukwa-graphs/NODES/nodes_chukwa-chukwa-0.8.0.csv', 'D:/mm_thesis/Software_graphs/SIG_graph/CHUKWA/chukwa-graphs/NODES/nodes_chukwa-release-0.1.2.csv']\n",
      "all_nodes 21288\n",
      "no dup 927\n",
      "++++++++++++++++++++++++++++++\n",
      "save_file : D:/mm_thesis/Software_graphs/SIG_graph/CHUKWA/all_nodes.csv\n",
      "net D:/mm_thesis/Software_graphs/SIG_graph/HC/\n",
      "n-graph D:/mm_thesis/Software_graphs/SIG_graph/HC/httpclient-graphs/NODES/\n",
      "node-path ['D:/mm_thesis/Software_graphs/SIG_graph/HC/httpclient-graphs/NODES/nodes_httpcomponents-client-4.0.2-RC1.csv', 'D:/mm_thesis/Software_graphs/SIG_graph/HC/httpclient-graphs/NODES/nodes_httpcomponents-client-4.0.2-RC2.csv', 'D:/mm_thesis/Software_graphs/SIG_graph/HC/httpclient-graphs/NODES/nodes_httpcomponents-client-4.0.2-RC3.csv', 'D:/mm_thesis/Software_graphs/SIG_graph/HC/httpclient-graphs/NODES/nodes_httpcomponents-client-4.0.3-RC1.csv', 'D:/mm_thesis/Software_graphs/SIG_graph/HC/httpclient-graphs/NODES/nodes_httpcomponents-client-4.1-RC1.csv', 'D:/mm_thesis/Software_graphs/SIG_graph/HC/httpclient-graphs/NODES/nodes_httpcomponents-client-4.1-RC2.csv', 'D:/mm_thesis/Software_graphs/SIG_graph/HC/httpclient-graphs/NODES/nodes_httpcomponents-client-4.1-RC3.csv', 'D:/mm_thesis/Software_graphs/SIG_graph/HC/httpclient-graphs/NODES/nodes_httpcomponents-client-4.1-siteupdate.csv', 'D:/mm_thesis/Software_graphs/SIG_graph/HC/httpclient-graphs/NODES/nodes_httpcomponents-client-4.2-RC1.csv', 'D:/mm_thesis/Software_graphs/SIG_graph/HC/httpclient-graphs/NODES/nodes_httpcomponents-client-4.2-RC2.csv', 'D:/mm_thesis/Software_graphs/SIG_graph/HC/httpclient-graphs/NODES/nodes_httpcomponents-client-4.2.1-RC1.csv', 'D:/mm_thesis/Software_graphs/SIG_graph/HC/httpclient-graphs/NODES/nodes_httpcomponents-client-4.2.2-RC1.csv', 'D:/mm_thesis/Software_graphs/SIG_graph/HC/httpclient-graphs/NODES/nodes_httpcomponents-client-4.2.3-RC1.csv', 'D:/mm_thesis/Software_graphs/SIG_graph/HC/httpclient-graphs/NODES/nodes_httpcomponents-client-4.2.3-RC2.csv', 'D:/mm_thesis/Software_graphs/SIG_graph/HC/httpclient-graphs/NODES/nodes_httpcomponents-client-4.2.3-RC3.csv', 'D:/mm_thesis/Software_graphs/SIG_graph/HC/httpclient-graphs/NODES/nodes_httpcomponents-client-4.2.4-RC1.csv', 'D:/mm_thesis/Software_graphs/SIG_graph/HC/httpclient-graphs/NODES/nodes_httpcomponents-client-4.2.5-RC1.csv', 'D:/mm_thesis/Software_graphs/SIG_graph/HC/httpclient-graphs/NODES/nodes_httpcomponents-client-4.2.6-RC1.csv', 'D:/mm_thesis/Software_graphs/SIG_graph/HC/httpclient-graphs/NODES/nodes_httpcomponents-client-4.2.6-RC2.csv', 'D:/mm_thesis/Software_graphs/SIG_graph/HC/httpclient-graphs/NODES/nodes_httpcomponents-client-4.3-RC1.csv', 'D:/mm_thesis/Software_graphs/SIG_graph/HC/httpclient-graphs/NODES/nodes_httpcomponents-client-4.3.1-RC1.csv', 'D:/mm_thesis/Software_graphs/SIG_graph/HC/httpclient-graphs/NODES/nodes_httpcomponents-client-4.3.1-RC2.csv', 'D:/mm_thesis/Software_graphs/SIG_graph/HC/httpclient-graphs/NODES/nodes_httpcomponents-client-4.3.2-RC1.csv', 'D:/mm_thesis/Software_graphs/SIG_graph/HC/httpclient-graphs/NODES/nodes_httpcomponents-client-4.3.3-RC1.csv', 'D:/mm_thesis/Software_graphs/SIG_graph/HC/httpclient-graphs/NODES/nodes_httpcomponents-client-4.3.4-RC1.csv', 'D:/mm_thesis/Software_graphs/SIG_graph/HC/httpclient-graphs/NODES/nodes_httpcomponents-client-4.3.5-RC1.csv', 'D:/mm_thesis/Software_graphs/SIG_graph/HC/httpclient-graphs/NODES/nodes_httpcomponents-client-4.3.6-RC1.csv', 'D:/mm_thesis/Software_graphs/SIG_graph/HC/httpclient-graphs/NODES/nodes_httpcomponents-client-4.4-RC1.csv', 'D:/mm_thesis/Software_graphs/SIG_graph/HC/httpclient-graphs/NODES/nodes_httpcomponents-client-4.4-RC2.csv', 'D:/mm_thesis/Software_graphs/SIG_graph/HC/httpclient-graphs/NODES/nodes_httpcomponents-client-4.4.1-RC1.csv', 'D:/mm_thesis/Software_graphs/SIG_graph/HC/httpclient-graphs/NODES/nodes_httpcomponents-client-4.5-RC1.csv', 'D:/mm_thesis/Software_graphs/SIG_graph/HC/httpclient-graphs/NODES/nodes_httpcomponents-client-4.5-RC2.csv', 'D:/mm_thesis/Software_graphs/SIG_graph/HC/httpclient-graphs/NODES/nodes_httpcomponents-client-4.5.1-RC1.csv', 'D:/mm_thesis/Software_graphs/SIG_graph/HC/httpclient-graphs/NODES/nodes_httpcomponents-client-4_0_API_FREEZE.csv']\n",
      "all_nodes 174604\n",
      "no dup 1536\n",
      "++++++++++++++++++++++++++++++\n",
      "save_file : D:/mm_thesis/Software_graphs/SIG_graph/HC/all_nodes.csv\n",
      "net D:/mm_thesis/Software_graphs/SIG_graph/IVY/\n",
      "n-graph D:/mm_thesis/Software_graphs/SIG_graph/IVY/ivy-graphs/NODES/\n",
      "node-path ['D:/mm_thesis/Software_graphs/SIG_graph/IVY/ivy-graphs/NODES/nodes_ant-ivy-1.4.1.csv', 'D:/mm_thesis/Software_graphs/SIG_graph/IVY/ivy-graphs/NODES/nodes_ant-ivy-2.0.0-alpha2.csv', 'D:/mm_thesis/Software_graphs/SIG_graph/IVY/ivy-graphs/NODES/nodes_ant-ivy-2.0.0-beta1.csv', 'D:/mm_thesis/Software_graphs/SIG_graph/IVY/ivy-graphs/NODES/nodes_ant-ivy-2.0.0-beta2.csv', 'D:/mm_thesis/Software_graphs/SIG_graph/IVY/ivy-graphs/NODES/nodes_ant-ivy-2.0.0-rc1.csv', 'D:/mm_thesis/Software_graphs/SIG_graph/IVY/ivy-graphs/NODES/nodes_ant-ivy-2.0.0-rc2.csv', 'D:/mm_thesis/Software_graphs/SIG_graph/IVY/ivy-graphs/NODES/nodes_ant-ivy-2.0.0.csv', 'D:/mm_thesis/Software_graphs/SIG_graph/IVY/ivy-graphs/NODES/nodes_ant-ivy-2.1.0-rc1.csv', 'D:/mm_thesis/Software_graphs/SIG_graph/IVY/ivy-graphs/NODES/nodes_ant-ivy-2.1.0-rc2.csv', 'D:/mm_thesis/Software_graphs/SIG_graph/IVY/ivy-graphs/NODES/nodes_ant-ivy-2.1.0.csv', 'D:/mm_thesis/Software_graphs/SIG_graph/IVY/ivy-graphs/NODES/nodes_ant-ivy-2.2.0-rc1.csv', 'D:/mm_thesis/Software_graphs/SIG_graph/IVY/ivy-graphs/NODES/nodes_ant-ivy-2.2.0.csv', 'D:/mm_thesis/Software_graphs/SIG_graph/IVY/ivy-graphs/NODES/nodes_ant-ivy-2.3.0-rc1.csv', 'D:/mm_thesis/Software_graphs/SIG_graph/IVY/ivy-graphs/NODES/nodes_ant-ivy-2.3.0-rc2.csv', 'D:/mm_thesis/Software_graphs/SIG_graph/IVY/ivy-graphs/NODES/nodes_ant-ivy-2.3.0.csv', 'D:/mm_thesis/Software_graphs/SIG_graph/IVY/ivy-graphs/NODES/nodes_ant-ivy-2.4.0-rc1.csv', 'D:/mm_thesis/Software_graphs/SIG_graph/IVY/ivy-graphs/NODES/nodes_ant-ivy-2.4.0-rc1_OLD.csv', 'D:/mm_thesis/Software_graphs/SIG_graph/IVY/ivy-graphs/NODES/nodes_ant-ivy-2.4.0.csv']\n",
      "all_nodes 241866\n",
      "no dup 2426\n",
      "++++++++++++++++++++++++++++++\n",
      "save_file : D:/mm_thesis/Software_graphs/SIG_graph/IVY/all_nodes.csv\n",
      "net D:/mm_thesis/Software_graphs/SIG_graph/JENA/\n",
      "n-graph D:/mm_thesis/Software_graphs/SIG_graph/JENA/jena-graphs/NODES/\n",
      "node-path ['D:/mm_thesis/Software_graphs/SIG_graph/JENA/jena-graphs/NODES/nodes_jena-jena-2.10.0.csv', 'D:/mm_thesis/Software_graphs/SIG_graph/JENA/jena-graphs/NODES/nodes_jena-jena-2.10.1.csv', 'D:/mm_thesis/Software_graphs/SIG_graph/JENA/jena-graphs/NODES/nodes_jena-jena-2.11.0.csv', 'D:/mm_thesis/Software_graphs/SIG_graph/JENA/jena-graphs/NODES/nodes_jena-jena-2.7.1.csv', 'D:/mm_thesis/Software_graphs/SIG_graph/JENA/jena-graphs/NODES/nodes_jena-jena-2.7.2.csv', 'D:/mm_thesis/Software_graphs/SIG_graph/JENA/jena-graphs/NODES/nodes_jena-jena-2.7.3.csv', 'D:/mm_thesis/Software_graphs/SIG_graph/JENA/jena-graphs/NODES/nodes_jena-jena-2.7.4.csv']\n",
      "all_nodes 554904\n",
      "no dup 9719\n",
      "++++++++++++++++++++++++++++++\n",
      "save_file : D:/mm_thesis/Software_graphs/SIG_graph/JENA/all_nodes.csv\n"
     ]
    }
   ],
   "source": [
    "for net in csv_files:\n",
    "    \n",
    "    print('net',net)\n",
    "    g_list = os.listdir(net)\n",
    "    \n",
    "    g_files_l = [(os.path.join(net,infile )+\"/\")for infile in g_list if os.path.isdir(os.path.join(net,infile))]\n",
    "    for l in g_files_l:\n",
    "        net_files_l = os.listdir(l)\n",
    "#         print('l',l)\n",
    "        net_files = [(os.path.join(l,i)+'/') for i in  net_files_l if i.find(\"NODES\")!=-1]\n",
    "#         print('net_files',net_files,'\\n')\n",
    "        for net_graph in net_files:\n",
    "            print('n-graph',net_graph)\n",
    "            nn_list = os.listdir(net_graph)\n",
    "#             print(nn_list,'\\n')\n",
    "# #         print(100*'_')\n",
    "            net_node_path = [(os.path.join(net_graph,i))for i in nn_list]\n",
    "            print('node-path', net_node_path)\n",
    "            all_nodes = pd.concat([pd.read_csv(i) for i in net_node_path],ignore_index = True)\n",
    "            new_df = all_nodes.reset_index().drop_duplicates(subset = 'Node',keep='first').set_index('index') \n",
    "            new_df = new_df.reset_index(drop=True)\n",
    "            print('all_nodes',len(all_nodes))\n",
    "            print('no dup', len(new_df))\n",
    "            print(30*'+')\n",
    "            print(\"save_file :\",net+'all_nodes.csv')\n",
    "            all_nodes.to_csv(net+'all_nodes.csv', encoding='utf-8',index = False)\n",
    "            new_df.to_csv(net+'all_nodes_nodup.csv', encoding='utf-8')"
   ]
  },
  {
   "cell_type": "markdown",
   "metadata": {},
   "source": [
    "# giving the nodes numbers\n"
   ]
  },
  {
   "cell_type": "code",
   "execution_count": 18,
   "metadata": {},
   "outputs": [
    {
     "name": "stdout",
     "output_type": "stream",
     "text": [
      "net D:/mm_thesis/Software_graphs/SIG_graph/Cass/\n",
      "['all_nodes.csv', 'all_nodes_nodup.csv', 'cassandra-graphs']\n",
      "Index(['Unnamed: 0', 'Node', 'class', 'package', 'args', 'Version', 't_stmp'], dtype='object')\n",
      "after_rename Index(['Node_id', 'Node', 'class', 'package', 'args', 'Version', 't_stmp'], dtype='object')\n",
      "net D:/mm_thesis/Software_graphs/SIG_graph/CHUKWA/\n",
      "['all_nodes.csv', 'all_nodes_nodup.csv', 'chukwa-graphs']\n",
      "Index(['Unnamed: 0', 'Node', 'class', 'package', 'args', 'Version', 't_stmp'], dtype='object')\n",
      "after_rename Index(['Node_id', 'Node', 'class', 'package', 'args', 'Version', 't_stmp'], dtype='object')\n",
      "net D:/mm_thesis/Software_graphs/SIG_graph/HC/\n",
      "['all_nodes.csv', 'all_nodes_nodup.csv', 'httpclient-graphs']\n",
      "Index(['Unnamed: 0', 'Node', 'class', 'package', 'args', 'Version', 't_stmp'], dtype='object')\n",
      "after_rename Index(['Node_id', 'Node', 'class', 'package', 'args', 'Version', 't_stmp'], dtype='object')\n",
      "net D:/mm_thesis/Software_graphs/SIG_graph/IVY/\n",
      "['all_nodes.csv', 'all_nodes_nodup.csv', 'ivy-graphs']\n",
      "Index(['Unnamed: 0', 'Node', 'class', 'package', 'args', 'Version', 't_stmp'], dtype='object')\n",
      "after_rename Index(['Node_id', 'Node', 'class', 'package', 'args', 'Version', 't_stmp'], dtype='object')\n",
      "net D:/mm_thesis/Software_graphs/SIG_graph/JENA/\n",
      "['all_nodes.csv', 'all_nodes_nodup.csv', 'jena-graphs']\n",
      "Index(['Unnamed: 0', 'Node', 'class', 'package', 'args', 'Version', 't_stmp'], dtype='object')\n",
      "after_rename Index(['Node_id', 'Node', 'class', 'package', 'args', 'Version', 't_stmp'], dtype='object')\n"
     ]
    }
   ],
   "source": [
    "for net in csv_files:\n",
    "    \n",
    "    print('net',net)\n",
    "    net_list = os.listdir(net)\n",
    "    print(net_list)\n",
    "    \n",
    "    nodes_files = [(os.path.join(net,infile ))for infile in net_list if os.path.isfile(os.path.join(net,infile))]\n",
    "    all_nodes = [j for j in nodes_files if j.find('nodup')!=-1 ]\n",
    "    #print('all_nodes', all_nodes_path)\n",
    "    nodes_all = all_nodes[0]\n",
    "    #print('all_nodes',nodes_d)\n",
    "    nodes_df = pd.read_csv(nodes_all)\n",
    "    print(nodes_df.columns)\n",
    "    nodes_df.rename (columns= {'Unnamed: 0':'Node_id'}, inplace = True) \n",
    "    #nodes_df.rename(columns={'Method': 'Node'})\n",
    "    print( 'after_rename',nodes_df.columns)\n",
    "    \n",
    "    #nodes_df = nodes_df[['Node_id','Method','class','package','args']]\n",
    "    nodes_df.to_csv(net+'all_nodes_nodup.csv', encoding='utf-8',index= False)"
   ]
  },
  {
   "cell_type": "code",
   "execution_count": 7,
   "metadata": {},
   "outputs": [
    {
     "data": {
      "text/plain": [
       "['D:/mm_thesis/Software_graphs/SIG_graph/Cass/',\n",
       " 'D:/mm_thesis/Software_graphs/SIG_graph/CHUKWA/',\n",
       " 'D:/mm_thesis/Software_graphs/SIG_graph/HC/',\n",
       " 'D:/mm_thesis/Software_graphs/SIG_graph/IVY/',\n",
       " 'D:/mm_thesis/Software_graphs/SIG_graph/JENA/']"
      ]
     },
     "execution_count": 7,
     "metadata": {},
     "output_type": "execute_result"
    }
   ],
   "source": [
    "csv_files"
   ]
  },
  {
   "cell_type": "code",
   "execution_count": null,
   "metadata": {},
   "outputs": [],
   "source": []
  },
  {
   "cell_type": "markdown",
   "metadata": {},
   "source": [
    "# putting node id in edes_files , had to use spyder for using multi core otherwise it crashes\n"
   ]
  },
  {
   "cell_type": "code",
   "execution_count": 23,
   "metadata": {},
   "outputs": [
    {
     "name": "stdout",
     "output_type": "stream",
     "text": [
      "net:     D:/mm_thesis/Software_graphs/SIG_graph/Cass/\n",
      "all_nodes ['D:/mm_thesis/Software_graphs/SIG_graph/Cass/all_nodes_nodup.csv']\n",
      "D:/mm_thesis/Software_graphs/SIG_graph/Cass/cassandra-graphs/\n",
      "edged>>>>>>>>>>>>>>>>> ['D:/mm_thesis/Software_graphs/SIG_graph/Cass/cassandra-graphs/Edges/']\n",
      "all_nodes D:/mm_thesis/Software_graphs/SIG_graph/Cass/all_nodes_nodup.csv\n",
      "++++++++++++++++++++++++++++++++++++++++++++++++++\n",
      "D:/mm_thesis/Software_graphs/SIG_graph/Cass/cassandra-graphs/Edges/edges_cassandra-cassandra-0.3.0-final.csv\n",
      "edge_file D:/mm_thesis/Software_graphs/SIG_graph/Cass/cassandra-graphs/Edges/edges_cassandra-cassandra-0.3.0-final.csv\n",
      "++++++++++++++++++++++++++++++++++++++++++++++++++\n",
      "D:/mm_thesis/Software_graphs/SIG_graph/Cass/cassandra-graphs/Edges/edges_cassandra-cassandra-0.4.0-final.csv\n",
      "edge_file D:/mm_thesis/Software_graphs/SIG_graph/Cass/cassandra-graphs/Edges/edges_cassandra-cassandra-0.4.0-final.csv\n"
     ]
    },
    {
     "ename": "RecursionError",
     "evalue": "maximum recursion depth exceeded while calling a Python object",
     "output_type": "error",
     "traceback": [
      "\u001b[1;31m---------------------------------------------------------------------------\u001b[0m",
      "\u001b[1;31mRecursionError\u001b[0m                            Traceback (most recent call last)",
      "\u001b[1;32m<ipython-input-23-359502856035>\u001b[0m in \u001b[0;36m<module>\u001b[1;34m\u001b[0m\n\u001b[0;32m     32\u001b[0m                 \u001b[1;32mfor\u001b[0m \u001b[0mi\u001b[0m\u001b[1;33m,\u001b[0m \u001b[0mrow\u001b[0m \u001b[1;32min\u001b[0m \u001b[0medges_df\u001b[0m\u001b[1;33m.\u001b[0m\u001b[0miterrows\u001b[0m\u001b[1;33m(\u001b[0m\u001b[1;33m)\u001b[0m\u001b[1;33m:\u001b[0m\u001b[1;33m\u001b[0m\u001b[1;33m\u001b[0m\u001b[0m\n\u001b[0;32m     33\u001b[0m                 \u001b[1;31m#print(row)\u001b[0m\u001b[1;33m\u001b[0m\u001b[1;33m\u001b[0m\u001b[1;33m\u001b[0m\u001b[0m\n\u001b[1;32m---> 34\u001b[1;33m                     \u001b[0ms_i\u001b[0m \u001b[1;33m=\u001b[0m\u001b[0mnode_df\u001b[0m\u001b[1;33m[\u001b[0m\u001b[0mnode_df\u001b[0m\u001b[1;33m[\u001b[0m\u001b[1;34m'Node'\u001b[0m\u001b[1;33m]\u001b[0m\u001b[1;33m==\u001b[0m\u001b[0mrow\u001b[0m\u001b[1;33m[\u001b[0m\u001b[1;34m'source'\u001b[0m\u001b[1;33m]\u001b[0m\u001b[1;33m]\u001b[0m\u001b[1;33m[\u001b[0m\u001b[1;34m'Node_id'\u001b[0m\u001b[1;33m]\u001b[0m\u001b[1;33m.\u001b[0m\u001b[0mvalues\u001b[0m\u001b[1;33m[\u001b[0m\u001b[1;36m0\u001b[0m\u001b[1;33m]\u001b[0m\u001b[1;33m\u001b[0m\u001b[1;33m\u001b[0m\u001b[0m\n\u001b[0m\u001b[0;32m     35\u001b[0m                     \u001b[0mt_i\u001b[0m \u001b[1;33m=\u001b[0m\u001b[0mnode_df\u001b[0m\u001b[1;33m[\u001b[0m\u001b[0mnode_df\u001b[0m\u001b[1;33m[\u001b[0m\u001b[1;34m'Node'\u001b[0m\u001b[1;33m]\u001b[0m\u001b[1;33m==\u001b[0m\u001b[0mrow\u001b[0m\u001b[1;33m[\u001b[0m\u001b[1;34m'target'\u001b[0m\u001b[1;33m]\u001b[0m\u001b[1;33m]\u001b[0m\u001b[1;33m[\u001b[0m\u001b[1;34m'Node_id'\u001b[0m\u001b[1;33m]\u001b[0m\u001b[1;33m.\u001b[0m\u001b[0mvalues\u001b[0m\u001b[1;33m[\u001b[0m\u001b[1;36m0\u001b[0m\u001b[1;33m]\u001b[0m\u001b[1;33m\u001b[0m\u001b[1;33m\u001b[0m\u001b[0m\n\u001b[0;32m     36\u001b[0m                     \u001b[1;31m#print('s_t',s_i, t_i)\u001b[0m\u001b[1;33m\u001b[0m\u001b[1;33m\u001b[0m\u001b[1;33m\u001b[0m\u001b[0m\n",
      "\u001b[1;32m~\\Anaconda3\\lib\\site-packages\\pandas\\core\\ops.py\u001b[0m in \u001b[0;36mwrapper\u001b[1;34m(self, other, axis)\u001b[0m\n\u001b[0;32m   1726\u001b[0m \u001b[1;33m\u001b[0m\u001b[0m\n\u001b[0;32m   1727\u001b[0m         elif (is_extension_array_dtype(self) or\n\u001b[1;32m-> 1728\u001b[1;33m               (is_extension_array_dtype(other) and not is_scalar(other))):\n\u001b[0m\u001b[0;32m   1729\u001b[0m             \u001b[1;31m# Note: the `not is_scalar(other)` condition rules out\u001b[0m\u001b[1;33m\u001b[0m\u001b[1;33m\u001b[0m\u001b[1;33m\u001b[0m\u001b[0m\n\u001b[0;32m   1730\u001b[0m             \u001b[1;31m# e.g. other == \"category\"\u001b[0m\u001b[1;33m\u001b[0m\u001b[1;33m\u001b[0m\u001b[1;33m\u001b[0m\u001b[0m\n",
      "\u001b[1;32m~\\Anaconda3\\lib\\site-packages\\pandas\\core\\dtypes\\common.py\u001b[0m in \u001b[0;36mis_extension_array_dtype\u001b[1;34m(arr_or_dtype)\u001b[0m\n\u001b[0;32m   1747\u001b[0m     \u001b[0mdtype\u001b[0m \u001b[1;33m=\u001b[0m \u001b[0mgetattr\u001b[0m\u001b[1;33m(\u001b[0m\u001b[0marr_or_dtype\u001b[0m\u001b[1;33m,\u001b[0m \u001b[1;34m'dtype'\u001b[0m\u001b[1;33m,\u001b[0m \u001b[0marr_or_dtype\u001b[0m\u001b[1;33m)\u001b[0m\u001b[1;33m\u001b[0m\u001b[1;33m\u001b[0m\u001b[0m\n\u001b[0;32m   1748\u001b[0m     return (isinstance(dtype, ExtensionDtype) or\n\u001b[1;32m-> 1749\u001b[1;33m             registry.find(dtype) is not None)\n\u001b[0m\u001b[0;32m   1750\u001b[0m \u001b[1;33m\u001b[0m\u001b[0m\n\u001b[0;32m   1751\u001b[0m \u001b[1;33m\u001b[0m\u001b[0m\n",
      "\u001b[1;32m~\\Anaconda3\\lib\\site-packages\\pandas\\core\\dtypes\\dtypes.py\u001b[0m in \u001b[0;36mfind\u001b[1;34m(self, dtype)\u001b[0m\n\u001b[0;32m     87\u001b[0m         \u001b[1;32mfor\u001b[0m \u001b[0mdtype_type\u001b[0m \u001b[1;32min\u001b[0m \u001b[0mself\u001b[0m\u001b[1;33m.\u001b[0m\u001b[0mdtypes\u001b[0m\u001b[1;33m:\u001b[0m\u001b[1;33m\u001b[0m\u001b[1;33m\u001b[0m\u001b[0m\n\u001b[0;32m     88\u001b[0m             \u001b[1;32mtry\u001b[0m\u001b[1;33m:\u001b[0m\u001b[1;33m\u001b[0m\u001b[1;33m\u001b[0m\u001b[0m\n\u001b[1;32m---> 89\u001b[1;33m                 \u001b[1;32mreturn\u001b[0m \u001b[0mdtype_type\u001b[0m\u001b[1;33m.\u001b[0m\u001b[0mconstruct_from_string\u001b[0m\u001b[1;33m(\u001b[0m\u001b[0mdtype\u001b[0m\u001b[1;33m)\u001b[0m\u001b[1;33m\u001b[0m\u001b[1;33m\u001b[0m\u001b[0m\n\u001b[0m\u001b[0;32m     90\u001b[0m             \u001b[1;32mexcept\u001b[0m \u001b[0mTypeError\u001b[0m\u001b[1;33m:\u001b[0m\u001b[1;33m\u001b[0m\u001b[1;33m\u001b[0m\u001b[0m\n\u001b[0;32m     91\u001b[0m                 \u001b[1;32mpass\u001b[0m\u001b[1;33m\u001b[0m\u001b[1;33m\u001b[0m\u001b[0m\n",
      "\u001b[1;32m~\\Anaconda3\\lib\\site-packages\\pandas\\core\\dtypes\\dtypes.py\u001b[0m in \u001b[0;36mconstruct_from_string\u001b[1;34m(cls, string)\u001b[0m\n\u001b[0;32m    936\u001b[0m             (string.startswith('interval') or\n\u001b[0;32m    937\u001b[0m              string.startswith('Interval'))):\n\u001b[1;32m--> 938\u001b[1;33m             \u001b[1;32mreturn\u001b[0m \u001b[0mcls\u001b[0m\u001b[1;33m(\u001b[0m\u001b[0mstring\u001b[0m\u001b[1;33m)\u001b[0m\u001b[1;33m\u001b[0m\u001b[1;33m\u001b[0m\u001b[0m\n\u001b[0m\u001b[0;32m    939\u001b[0m \u001b[1;33m\u001b[0m\u001b[0m\n\u001b[0;32m    940\u001b[0m         \u001b[0mmsg\u001b[0m \u001b[1;33m=\u001b[0m \u001b[1;34m\"a string needs to be passed, got type {typ}\"\u001b[0m\u001b[1;33m\u001b[0m\u001b[1;33m\u001b[0m\u001b[0m\n",
      "\u001b[1;32m~\\Anaconda3\\lib\\site-packages\\pandas\\core\\dtypes\\dtypes.py\u001b[0m in \u001b[0;36m__new__\u001b[1;34m(cls, subtype)\u001b[0m\n\u001b[0;32m    897\u001b[0m \u001b[1;33m\u001b[0m\u001b[0m\n\u001b[0;32m    898\u001b[0m             \u001b[1;32mtry\u001b[0m\u001b[1;33m:\u001b[0m\u001b[1;33m\u001b[0m\u001b[1;33m\u001b[0m\u001b[0m\n\u001b[1;32m--> 899\u001b[1;33m                 \u001b[0msubtype\u001b[0m \u001b[1;33m=\u001b[0m \u001b[0mpandas_dtype\u001b[0m\u001b[1;33m(\u001b[0m\u001b[0msubtype\u001b[0m\u001b[1;33m)\u001b[0m\u001b[1;33m\u001b[0m\u001b[1;33m\u001b[0m\u001b[0m\n\u001b[0m\u001b[0;32m    900\u001b[0m             \u001b[1;32mexcept\u001b[0m \u001b[0mTypeError\u001b[0m\u001b[1;33m:\u001b[0m\u001b[1;33m\u001b[0m\u001b[1;33m\u001b[0m\u001b[0m\n\u001b[0;32m    901\u001b[0m                 \u001b[1;32mraise\u001b[0m \u001b[0mTypeError\u001b[0m\u001b[1;33m(\u001b[0m\u001b[1;34m\"could not construct IntervalDtype\"\u001b[0m\u001b[1;33m)\u001b[0m\u001b[1;33m\u001b[0m\u001b[1;33m\u001b[0m\u001b[0m\n",
      "\u001b[1;32m~\\Anaconda3\\lib\\site-packages\\pandas\\core\\dtypes\\common.py\u001b[0m in \u001b[0;36mpandas_dtype\u001b[1;34m(dtype)\u001b[0m\n\u001b[0;32m   2002\u001b[0m \u001b[1;33m\u001b[0m\u001b[0m\n\u001b[0;32m   2003\u001b[0m     \u001b[1;31m# registered extension types\u001b[0m\u001b[1;33m\u001b[0m\u001b[1;33m\u001b[0m\u001b[1;33m\u001b[0m\u001b[0m\n\u001b[1;32m-> 2004\u001b[1;33m     \u001b[0mresult\u001b[0m \u001b[1;33m=\u001b[0m \u001b[0mregistry\u001b[0m\u001b[1;33m.\u001b[0m\u001b[0mfind\u001b[0m\u001b[1;33m(\u001b[0m\u001b[0mdtype\u001b[0m\u001b[1;33m)\u001b[0m\u001b[1;33m\u001b[0m\u001b[1;33m\u001b[0m\u001b[0m\n\u001b[0m\u001b[0;32m   2005\u001b[0m     \u001b[1;32mif\u001b[0m \u001b[0mresult\u001b[0m \u001b[1;32mis\u001b[0m \u001b[1;32mnot\u001b[0m \u001b[1;32mNone\u001b[0m\u001b[1;33m:\u001b[0m\u001b[1;33m\u001b[0m\u001b[1;33m\u001b[0m\u001b[0m\n\u001b[0;32m   2006\u001b[0m         \u001b[1;32mreturn\u001b[0m \u001b[0mresult\u001b[0m\u001b[1;33m\u001b[0m\u001b[1;33m\u001b[0m\u001b[0m\n",
      "... last 4 frames repeated, from the frame below ...\n",
      "\u001b[1;32m~\\Anaconda3\\lib\\site-packages\\pandas\\core\\dtypes\\dtypes.py\u001b[0m in \u001b[0;36mfind\u001b[1;34m(self, dtype)\u001b[0m\n\u001b[0;32m     87\u001b[0m         \u001b[1;32mfor\u001b[0m \u001b[0mdtype_type\u001b[0m \u001b[1;32min\u001b[0m \u001b[0mself\u001b[0m\u001b[1;33m.\u001b[0m\u001b[0mdtypes\u001b[0m\u001b[1;33m:\u001b[0m\u001b[1;33m\u001b[0m\u001b[1;33m\u001b[0m\u001b[0m\n\u001b[0;32m     88\u001b[0m             \u001b[1;32mtry\u001b[0m\u001b[1;33m:\u001b[0m\u001b[1;33m\u001b[0m\u001b[1;33m\u001b[0m\u001b[0m\n\u001b[1;32m---> 89\u001b[1;33m                 \u001b[1;32mreturn\u001b[0m \u001b[0mdtype_type\u001b[0m\u001b[1;33m.\u001b[0m\u001b[0mconstruct_from_string\u001b[0m\u001b[1;33m(\u001b[0m\u001b[0mdtype\u001b[0m\u001b[1;33m)\u001b[0m\u001b[1;33m\u001b[0m\u001b[1;33m\u001b[0m\u001b[0m\n\u001b[0m\u001b[0;32m     90\u001b[0m             \u001b[1;32mexcept\u001b[0m \u001b[0mTypeError\u001b[0m\u001b[1;33m:\u001b[0m\u001b[1;33m\u001b[0m\u001b[1;33m\u001b[0m\u001b[0m\n\u001b[0;32m     91\u001b[0m                 \u001b[1;32mpass\u001b[0m\u001b[1;33m\u001b[0m\u001b[1;33m\u001b[0m\u001b[0m\n",
      "\u001b[1;31mRecursionError\u001b[0m: maximum recursion depth exceeded while calling a Python object"
     ]
    }
   ],
   "source": [
    "for net in csv_files:\n",
    "\n",
    "    print('net:    ',net)\n",
    "    net_list = os.listdir(net)\n",
    "#     print(net_list)\n",
    "\n",
    "    nodes_files = [(os.path.join(net,infile ))for infile in net_list if os.path.isfile(os.path.join(net,infile))]\n",
    "    net_dir = [(os.path.join(net,infile)+'/')for infile in net_list if os.path.isdir(os.path.join(net,infile))] \n",
    "#     print('net_dir',net_dir)\n",
    "    nodes_nodup = [j for j in nodes_files if j.find('nodup')!=-1 ]\n",
    "    print('all_nodes', nodes_nodup)\n",
    "    nodes_all = nodes_nodup[0]\n",
    "    node_df = pd.read_csv(nodes_all)\n",
    "     \n",
    "    for g in net_dir:    \n",
    "        print(g)\n",
    "        g_list = os.listdir(g)\n",
    "        edges_files = [(os.path.join(g,i)+'/') for i in g_list if ((i.find('Edges') != -1) and (os.path.isdir(os.path.join(g,i))))]\n",
    "# # \n",
    "        print('edged>>>>>>>>>>>>>>>>>',edges_files)\n",
    "        for net_graph in edges_files:\n",
    "            print('all_nodes',nodes_all)\n",
    "            nn_list = os.listdir(net_graph)\n",
    "            for n in nn_list:\n",
    "                print(50 * '+')\n",
    "                print(net_graph + n)\n",
    "                e_file = os.path.join(net_graph,n)\n",
    "                print('edge_file', e_file)\n",
    "                edges_df = pd.read_csv(e_file)\n",
    "                edges_df= edges_df.assign(s_id =\" \")\n",
    "                edges_df= edges_df.assign(t_id =\" \")\n",
    "                for i, row in edges_df.iterrows():\n",
    "                #print(row)\n",
    "                    s_i =node_df[node_df['Node']==row['source']]['Node_id'].values[0]\n",
    "                    t_i =node_df[node_df['Node']==row['target']]['Node_id'].values[0]\n",
    "                    #print('s_t',s_i, t_i)\n",
    "                    edges_df.at[i,\"t_id\"] = t_i\n",
    "                    edges_df.at[i,\"s_id\"] = s_i\n",
    "            edges_df.rename(columns= {'source':'O_source', 'target' :'O_target', 's_id': 'source', 't_id' : 'target'}, inplace = True)\n",
    "            edges_df = edges_df[['source', 'target', 'O_source', 'O_target','Version','t_stmp']]\n",
    "            file_save = net_graph + 'new_'+ n\n",
    "            #print(file_save)\n",
    "            print('to save',file_save)\n",
    "            edges_df.to_csv(file_save, encoding='utf-8')"
   ]
  },
  {
   "cell_type": "code",
   "execution_count": null,
   "metadata": {},
   "outputs": [],
   "source": []
  }
 ],
 "metadata": {
  "kernelspec": {
   "display_name": "Python 3",
   "language": "python",
   "name": "python3"
  },
  "language_info": {
   "codemirror_mode": {
    "name": "ipython",
    "version": 3
   },
   "file_extension": ".py",
   "mimetype": "text/x-python",
   "name": "python",
   "nbconvert_exporter": "python",
   "pygments_lexer": "ipython3",
   "version": "3.6.8"
  }
 },
 "nbformat": 4,
 "nbformat_minor": 2
}
